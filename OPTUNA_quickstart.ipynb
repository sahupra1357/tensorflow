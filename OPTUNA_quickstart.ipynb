{
  "cells": [
    {
      "cell_type": "markdown",
      "metadata": {
        "id": "0u8LLUR_H0Wl"
      },
      "source": [
        "# A Quick Introduction to Optuna\n",
        "\n",
        "This Jupyter notebook goes through the basic usage of Optuna.\n",
        "\n",
        "- Install Optuna\n",
        "- Write a training algorithm that involves hyperparameters\n",
        "  - Read train/valid data\n",
        "  - Define and train model\n",
        "  - Evaluate model\n",
        "- Use Optuna to tune the hyperparameters (hyperparameter optimization, HPO)\n",
        "- Visualize HPO"
      ]
    },
    {
      "cell_type": "markdown",
      "metadata": {
        "id": "fhs39ALjH0Wp"
      },
      "source": [
        "## Install `optuna`\n",
        "\n",
        "Optuna can be installed via `pip` or `conda`."
      ]
    },
    {
      "cell_type": "code",
      "execution_count": 1,
      "metadata": {
        "id": "3gZtr1vTH0Wq",
        "outputId": "a9ea478a-e77e-468b-cf87-03dfa9b4dec9",
        "colab": {
          "base_uri": "https://localhost:8080/"
        }
      },
      "outputs": [
        {
          "output_type": "stream",
          "name": "stdout",
          "text": [
            "\u001b[2K     \u001b[90m━━━━━━━━━━━━━━━━━━━━━━━━━━━━━━━━━━━━━━━━\u001b[0m \u001b[32m413.4/413.4 kB\u001b[0m \u001b[31m4.6 MB/s\u001b[0m eta \u001b[36m0:00:00\u001b[0m\n",
            "\u001b[2K     \u001b[90m━━━━━━━━━━━━━━━━━━━━━━━━━━━━━━━━━━━━━━━━\u001b[0m \u001b[32m233.4/233.4 kB\u001b[0m \u001b[31m9.4 MB/s\u001b[0m eta \u001b[36m0:00:00\u001b[0m\n",
            "\u001b[2K     \u001b[90m━━━━━━━━━━━━━━━━━━━━━━━━━━━━━━━━━━━━━━━━\u001b[0m \u001b[32m78.6/78.6 kB\u001b[0m \u001b[31m5.4 MB/s\u001b[0m eta \u001b[36m0:00:00\u001b[0m\n",
            "\u001b[?25h"
          ]
        }
      ],
      "source": [
        "!pip install --quiet optuna"
      ]
    },
    {
      "cell_type": "code",
      "execution_count": 2,
      "metadata": {
        "id": "lsIeMNLGH0Wr",
        "outputId": "27312538-5b95-4c9c-956d-a2bb172659b3",
        "colab": {
          "base_uri": "https://localhost:8080/",
          "height": 36
        }
      },
      "outputs": [
        {
          "output_type": "execute_result",
          "data": {
            "text/plain": [
              "'3.5.0'"
            ],
            "application/vnd.google.colaboratory.intrinsic+json": {
              "type": "string"
            }
          },
          "metadata": {},
          "execution_count": 2
        }
      ],
      "source": [
        "import optuna\n",
        "\n",
        "optuna.__version__"
      ]
    },
    {
      "cell_type": "markdown",
      "metadata": {
        "id": "AMqi3GAQH0Wr"
      },
      "source": [
        "## Optimize Hyperparameters\n",
        "\n",
        "### Define a simple scikit-learn model\n",
        "\n",
        "We start with a simple random forest model to classify flowers in the Iris dataset. We define a function called `objective` that encapsulates the whole training process and outputs the accuracy of the model."
      ]
    },
    {
      "cell_type": "code",
      "execution_count": 3,
      "metadata": {
        "id": "NMPS6k-1H0Ws",
        "outputId": "31cfd9d6-c868-4c37-bb4d-9b4e89d5b5cf",
        "colab": {
          "base_uri": "https://localhost:8080/"
        }
      },
      "outputs": [
        {
          "output_type": "stream",
          "name": "stdout",
          "text": [
            "Accuracy: 0.94\n"
          ]
        }
      ],
      "source": [
        "import sklearn.datasets\n",
        "import sklearn.ensemble\n",
        "import sklearn.model_selection\n",
        "\n",
        "def objective():\n",
        "    iris = sklearn.datasets.load_iris()  # Prepare the data.\n",
        "\n",
        "    clf = sklearn.ensemble.RandomForestClassifier(\n",
        "        n_estimators=5, max_depth=3)  # Define the model.\n",
        "\n",
        "    return sklearn.model_selection.cross_val_score(\n",
        "        clf, iris.data, iris.target, n_jobs=-1, cv=3).mean()  # Train and evaluate the model.\n",
        "\n",
        "print('Accuracy: {}'.format(objective()))"
      ]
    },
    {
      "cell_type": "markdown",
      "metadata": {
        "id": "Cu93PCSCH0Ws"
      },
      "source": [
        "### Optimize hyperparameters of the model\n",
        "\n",
        "The hyperparameters of the above algorithm are `n_estimators` and `max_depth` for which we can try different values to see if the model accuracy can be improved. The `objective` function is modified to accept a trial object. This trial has several methods for sampling hyperparameters. We create a study to run the hyperparameter optimization and finally read the best hyperparameters."
      ]
    },
    {
      "cell_type": "code",
      "execution_count": 4,
      "metadata": {
        "id": "cPs01Z5tH0Wt",
        "outputId": "06ac90dc-d1cb-44d4-8cbc-9e8b4db0c0e5",
        "colab": {
          "base_uri": "https://localhost:8080/"
        }
      },
      "outputs": [
        {
          "output_type": "stream",
          "name": "stderr",
          "text": [
            "[I 2024-01-21 17:47:14,086] A new study created in memory with name: no-name-1340177f-89be-413d-9a0a-645fa5268475\n",
            "[I 2024-01-21 17:47:14,132] Trial 0 finished with value: 0.96 and parameters: {'n_estimators': 5, 'max_depth': 3.5185850403464967}. Best is trial 0 with value: 0.96.\n",
            "[I 2024-01-21 17:47:14,390] Trial 1 finished with value: 0.9666666666666667 and parameters: {'n_estimators': 19, 'max_depth': 14.871222116587484}. Best is trial 1 with value: 0.9666666666666667.\n",
            "[I 2024-01-21 17:47:14,519] Trial 2 finished with value: 0.7600000000000001 and parameters: {'n_estimators': 17, 'max_depth': 1.1998309034381798}. Best is trial 1 with value: 0.9666666666666667.\n",
            "[I 2024-01-21 17:47:14,580] Trial 3 finished with value: 0.9466666666666667 and parameters: {'n_estimators': 9, 'max_depth': 6.575562874824405}. Best is trial 1 with value: 0.9666666666666667.\n",
            "[I 2024-01-21 17:47:14,625] Trial 4 finished with value: 0.9533333333333333 and parameters: {'n_estimators': 3, 'max_depth': 2.4412683303540472}. Best is trial 1 with value: 0.9666666666666667.\n",
            "[I 2024-01-21 17:47:14,687] Trial 5 finished with value: 0.9533333333333333 and parameters: {'n_estimators': 10, 'max_depth': 2.353091918359389}. Best is trial 1 with value: 0.9666666666666667.\n",
            "[I 2024-01-21 17:47:14,749] Trial 6 finished with value: 0.96 and parameters: {'n_estimators': 11, 'max_depth': 25.26918033787775}. Best is trial 1 with value: 0.9666666666666667.\n",
            "[I 2024-01-21 17:47:14,800] Trial 7 finished with value: 0.96 and parameters: {'n_estimators': 8, 'max_depth': 3.5605202897402757}. Best is trial 1 with value: 0.9666666666666667.\n",
            "[I 2024-01-21 17:47:14,878] Trial 8 finished with value: 0.96 and parameters: {'n_estimators': 14, 'max_depth': 2.235022825594794}. Best is trial 1 with value: 0.9666666666666667.\n",
            "[I 2024-01-21 17:47:14,941] Trial 9 finished with value: 0.9466666666666667 and parameters: {'n_estimators': 12, 'max_depth': 13.291271713084623}. Best is trial 1 with value: 0.9666666666666667.\n",
            "[I 2024-01-21 17:47:15,052] Trial 10 finished with value: 0.96 and parameters: {'n_estimators': 20, 'max_depth': 30.93107984134867}. Best is trial 1 with value: 0.9666666666666667.\n",
            "[I 2024-01-21 17:47:15,093] Trial 11 finished with value: 0.9533333333333333 and parameters: {'n_estimators': 3, 'max_depth': 8.875098216338694}. Best is trial 1 with value: 0.9666666666666667.\n",
            "[I 2024-01-21 17:47:15,146] Trial 12 finished with value: 0.9533333333333333 and parameters: {'n_estimators': 6, 'max_depth': 10.970285222881465}. Best is trial 1 with value: 0.9666666666666667.\n",
            "[I 2024-01-21 17:47:15,237] Trial 13 finished with value: 0.94 and parameters: {'n_estimators': 16, 'max_depth': 17.139649212724912}. Best is trial 1 with value: 0.9666666666666667.\n",
            "[I 2024-01-21 17:47:15,348] Trial 14 finished with value: 0.9733333333333333 and parameters: {'n_estimators': 20, 'max_depth': 4.634025186672749}. Best is trial 14 with value: 0.9733333333333333.\n",
            "[I 2024-01-21 17:47:15,458] Trial 15 finished with value: 0.96 and parameters: {'n_estimators': 20, 'max_depth': 6.349459797483408}. Best is trial 14 with value: 0.9733333333333333.\n",
            "[I 2024-01-21 17:47:15,557] Trial 16 finished with value: 0.9666666666666667 and parameters: {'n_estimators': 17, 'max_depth': 19.01889959666132}. Best is trial 14 with value: 0.9733333333333333.\n",
            "[I 2024-01-21 17:47:15,679] Trial 17 finished with value: 0.96 and parameters: {'n_estimators': 19, 'max_depth': 4.2780965256769505}. Best is trial 14 with value: 0.9733333333333333.\n",
            "[I 2024-01-21 17:47:15,769] Trial 18 finished with value: 0.96 and parameters: {'n_estimators': 14, 'max_depth': 8.114683209272759}. Best is trial 14 with value: 0.9733333333333333.\n",
            "[I 2024-01-21 17:47:15,868] Trial 19 finished with value: 0.8666666666666667 and parameters: {'n_estimators': 18, 'max_depth': 1.2492023711746145}. Best is trial 14 with value: 0.9733333333333333.\n",
            "[I 2024-01-21 17:47:15,959] Trial 20 finished with value: 0.96 and parameters: {'n_estimators': 15, 'max_depth': 14.374123178708825}. Best is trial 14 with value: 0.9733333333333333.\n",
            "[I 2024-01-21 17:47:16,058] Trial 21 finished with value: 0.96 and parameters: {'n_estimators': 18, 'max_depth': 20.111889548870806}. Best is trial 14 with value: 0.9733333333333333.\n",
            "[I 2024-01-21 17:47:16,151] Trial 22 finished with value: 0.96 and parameters: {'n_estimators': 17, 'max_depth': 22.758416580889467}. Best is trial 14 with value: 0.9733333333333333.\n",
            "[I 2024-01-21 17:47:16,262] Trial 23 finished with value: 0.96 and parameters: {'n_estimators': 20, 'max_depth': 11.080860279265236}. Best is trial 14 with value: 0.9733333333333333.\n",
            "[I 2024-01-21 17:47:16,341] Trial 24 finished with value: 0.9666666666666667 and parameters: {'n_estimators': 13, 'max_depth': 4.4956019906235225}. Best is trial 14 with value: 0.9733333333333333.\n",
            "[I 2024-01-21 17:47:16,431] Trial 25 finished with value: 0.9666666666666667 and parameters: {'n_estimators': 16, 'max_depth': 17.364827744379898}. Best is trial 14 with value: 0.9733333333333333.\n",
            "[I 2024-01-21 17:47:16,548] Trial 26 finished with value: 0.9533333333333333 and parameters: {'n_estimators': 18, 'max_depth': 29.435325302187735}. Best is trial 14 with value: 0.9733333333333333.\n",
            "[I 2024-01-21 17:47:16,658] Trial 27 finished with value: 0.96 and parameters: {'n_estimators': 19, 'max_depth': 8.231802816941794}. Best is trial 14 with value: 0.9733333333333333.\n",
            "[I 2024-01-21 17:47:16,769] Trial 28 finished with value: 0.96 and parameters: {'n_estimators': 16, 'max_depth': 5.2076375465567235}. Best is trial 14 with value: 0.9733333333333333.\n",
            "[I 2024-01-21 17:47:16,871] Trial 29 finished with value: 0.9533333333333333 and parameters: {'n_estimators': 19, 'max_depth': 3.113088096294323}. Best is trial 14 with value: 0.9733333333333333.\n",
            "[I 2024-01-21 17:47:16,962] Trial 30 finished with value: 0.9466666666666667 and parameters: {'n_estimators': 15, 'max_depth': 1.758279017569602}. Best is trial 14 with value: 0.9733333333333333.\n",
            "[I 2024-01-21 17:47:17,042] Trial 31 finished with value: 0.9666666666666667 and parameters: {'n_estimators': 13, 'max_depth': 5.182430418916021}. Best is trial 14 with value: 0.9733333333333333.\n",
            "[I 2024-01-21 17:47:17,143] Trial 32 finished with value: 0.9533333333333333 and parameters: {'n_estimators': 17, 'max_depth': 4.020187595430994}. Best is trial 14 with value: 0.9733333333333333.\n",
            "[I 2024-01-21 17:47:17,245] Trial 33 finished with value: 0.9466666666666667 and parameters: {'n_estimators': 18, 'max_depth': 3.0263580387983096}. Best is trial 14 with value: 0.9733333333333333.\n",
            "[I 2024-01-21 17:47:17,325] Trial 34 finished with value: 0.9533333333333333 and parameters: {'n_estimators': 13, 'max_depth': 4.656098130856115}. Best is trial 14 with value: 0.9733333333333333.\n",
            "[I 2024-01-21 17:47:17,387] Trial 35 finished with value: 0.9533333333333333 and parameters: {'n_estimators': 8, 'max_depth': 6.579571072025205}. Best is trial 14 with value: 0.9733333333333333.\n",
            "[I 2024-01-21 17:47:17,478] Trial 36 finished with value: 0.96 and parameters: {'n_estimators': 17, 'max_depth': 10.158129509743182}. Best is trial 14 with value: 0.9733333333333333.\n",
            "[I 2024-01-21 17:47:17,550] Trial 37 finished with value: 0.9533333333333333 and parameters: {'n_estimators': 11, 'max_depth': 14.196181732038472}. Best is trial 14 with value: 0.9733333333333333.\n",
            "[I 2024-01-21 17:47:17,663] Trial 38 finished with value: 0.9533333333333333 and parameters: {'n_estimators': 20, 'max_depth': 6.631567460212358}. Best is trial 14 with value: 0.9733333333333333.\n",
            "[I 2024-01-21 17:47:17,766] Trial 39 finished with value: 0.9333333333333332 and parameters: {'n_estimators': 15, 'max_depth': 1.8502385811695357}. Best is trial 14 with value: 0.9733333333333333.\n",
            "[I 2024-01-21 17:47:17,837] Trial 40 finished with value: 0.9466666666666667 and parameters: {'n_estimators': 10, 'max_depth': 2.8123696880662257}. Best is trial 14 with value: 0.9733333333333333.\n",
            "[I 2024-01-21 17:47:17,929] Trial 41 finished with value: 0.96 and parameters: {'n_estimators': 16, 'max_depth': 19.01865600525677}. Best is trial 14 with value: 0.9733333333333333.\n",
            "[I 2024-01-21 17:47:18,010] Trial 42 finished with value: 0.96 and parameters: {'n_estimators': 14, 'max_depth': 25.13120706354132}. Best is trial 14 with value: 0.9733333333333333.\n",
            "[I 2024-01-21 17:47:18,117] Trial 43 finished with value: 0.9666666666666667 and parameters: {'n_estimators': 19, 'max_depth': 17.908012030789653}. Best is trial 14 with value: 0.9733333333333333.\n",
            "[I 2024-01-21 17:47:18,212] Trial 44 finished with value: 0.96 and parameters: {'n_estimators': 16, 'max_depth': 21.950209563738454}. Best is trial 14 with value: 0.9733333333333333.\n",
            "[I 2024-01-21 17:47:18,298] Trial 45 finished with value: 0.96 and parameters: {'n_estimators': 12, 'max_depth': 15.457908176922098}. Best is trial 14 with value: 0.9733333333333333.\n",
            "[I 2024-01-21 17:47:18,388] Trial 46 finished with value: 0.9533333333333333 and parameters: {'n_estimators': 17, 'max_depth': 11.650386929441655}. Best is trial 14 with value: 0.9733333333333333.\n",
            "[I 2024-01-21 17:47:18,470] Trial 47 finished with value: 0.9533333333333333 and parameters: {'n_estimators': 13, 'max_depth': 3.7818802077313736}. Best is trial 14 with value: 0.9733333333333333.\n",
            "[I 2024-01-21 17:47:18,540] Trial 48 finished with value: 0.96 and parameters: {'n_estimators': 5, 'max_depth': 26.588248213081602}. Best is trial 14 with value: 0.9733333333333333.\n",
            "[I 2024-01-21 17:47:18,652] Trial 49 finished with value: 0.96 and parameters: {'n_estimators': 19, 'max_depth': 5.881345551307086}. Best is trial 14 with value: 0.9733333333333333.\n",
            "[I 2024-01-21 17:47:18,767] Trial 50 finished with value: 0.9533333333333333 and parameters: {'n_estimators': 18, 'max_depth': 9.09866576740412}. Best is trial 14 with value: 0.9733333333333333.\n",
            "[I 2024-01-21 17:47:18,851] Trial 51 finished with value: 0.9533333333333333 and parameters: {'n_estimators': 12, 'max_depth': 4.914925464615736}. Best is trial 14 with value: 0.9733333333333333.\n",
            "[I 2024-01-21 17:47:18,934] Trial 52 finished with value: 0.9666666666666667 and parameters: {'n_estimators': 13, 'max_depth': 7.238770188968748}. Best is trial 14 with value: 0.9733333333333333.\n",
            "[I 2024-01-21 17:47:19,032] Trial 53 finished with value: 0.96 and parameters: {'n_estimators': 15, 'max_depth': 12.628739794055145}. Best is trial 14 with value: 0.9733333333333333.\n",
            "[I 2024-01-21 17:47:19,120] Trial 54 finished with value: 0.9533333333333333 and parameters: {'n_estimators': 14, 'max_depth': 16.235207367000225}. Best is trial 14 with value: 0.9733333333333333.\n",
            "[I 2024-01-21 17:47:19,161] Trial 55 finished with value: 0.9266666666666666 and parameters: {'n_estimators': 2, 'max_depth': 5.271661390262039}. Best is trial 14 with value: 0.9733333333333333.\n",
            "[I 2024-01-21 17:47:19,236] Trial 56 finished with value: 0.9533333333333333 and parameters: {'n_estimators': 11, 'max_depth': 4.450493324388792}. Best is trial 14 with value: 0.9733333333333333.\n",
            "[I 2024-01-21 17:47:19,339] Trial 57 finished with value: 0.9733333333333333 and parameters: {'n_estimators': 20, 'max_depth': 3.5547216417156497}. Best is trial 14 with value: 0.9733333333333333.\n",
            "[I 2024-01-21 17:47:19,454] Trial 58 finished with value: 0.9666666666666667 and parameters: {'n_estimators': 20, 'max_depth': 3.370174763717466}. Best is trial 14 with value: 0.9733333333333333.\n",
            "[I 2024-01-21 17:47:19,556] Trial 59 finished with value: 0.9533333333333333 and parameters: {'n_estimators': 19, 'max_depth': 2.1854720838692425}. Best is trial 14 with value: 0.9733333333333333.\n",
            "[I 2024-01-21 17:47:19,670] Trial 60 finished with value: 0.9533333333333333 and parameters: {'n_estimators': 20, 'max_depth': 2.591298387485473}. Best is trial 14 with value: 0.9733333333333333.\n",
            "[I 2024-01-21 17:47:19,772] Trial 61 finished with value: 0.96 and parameters: {'n_estimators': 18, 'max_depth': 3.8073467049147394}. Best is trial 14 with value: 0.9733333333333333.\n",
            "[I 2024-01-21 17:47:19,878] Trial 62 finished with value: 0.9533333333333333 and parameters: {'n_estimators': 17, 'max_depth': 4.341466775185857}. Best is trial 14 with value: 0.9733333333333333.\n",
            "[I 2024-01-21 17:47:19,981] Trial 63 finished with value: 0.9733333333333333 and parameters: {'n_estimators': 19, 'max_depth': 5.7599085590072425}. Best is trial 14 with value: 0.9733333333333333.\n",
            "[I 2024-01-21 17:47:20,085] Trial 64 finished with value: 0.9466666666666667 and parameters: {'n_estimators': 19, 'max_depth': 21.243190071653494}. Best is trial 14 with value: 0.9733333333333333.\n",
            "[I 2024-01-21 17:47:20,188] Trial 65 finished with value: 0.9466666666666667 and parameters: {'n_estimators': 20, 'max_depth': 3.289078361191512}. Best is trial 14 with value: 0.9733333333333333.\n",
            "[I 2024-01-21 17:47:20,291] Trial 66 finished with value: 0.9466666666666667 and parameters: {'n_estimators': 18, 'max_depth': 7.457993493970602}. Best is trial 14 with value: 0.9733333333333333.\n",
            "[I 2024-01-21 17:47:20,405] Trial 67 finished with value: 0.96 and parameters: {'n_estimators': 20, 'max_depth': 9.819388748109597}. Best is trial 14 with value: 0.9733333333333333.\n",
            "[I 2024-01-21 17:47:20,499] Trial 68 finished with value: 0.9666666666666667 and parameters: {'n_estimators': 16, 'max_depth': 5.689363073140972}. Best is trial 14 with value: 0.9733333333333333.\n",
            "[I 2024-01-21 17:47:20,612] Trial 69 finished with value: 0.9666666666666667 and parameters: {'n_estimators': 19, 'max_depth': 30.45815859962795}. Best is trial 14 with value: 0.9733333333333333.\n",
            "[I 2024-01-21 17:47:20,704] Trial 70 finished with value: 0.9133333333333332 and parameters: {'n_estimators': 17, 'max_depth': 1.4404705148777581}. Best is trial 14 with value: 0.9733333333333333.\n",
            "[I 2024-01-21 17:47:20,817] Trial 71 finished with value: 0.9533333333333333 and parameters: {'n_estimators': 18, 'max_depth': 4.094262425442716}. Best is trial 14 with value: 0.9733333333333333.\n",
            "[I 2024-01-21 17:47:20,890] Trial 72 finished with value: 0.9733333333333333 and parameters: {'n_estimators': 10, 'max_depth': 5.404380660068478}. Best is trial 14 with value: 0.9733333333333333.\n",
            "[I 2024-01-21 17:47:20,962] Trial 73 finished with value: 0.9666666666666667 and parameters: {'n_estimators': 9, 'max_depth': 3.551764719889816}. Best is trial 14 with value: 0.9733333333333333.\n",
            "[I 2024-01-21 17:47:21,034] Trial 74 finished with value: 0.9666666666666667 and parameters: {'n_estimators': 10, 'max_depth': 6.2790473584509146}. Best is trial 14 with value: 0.9733333333333333.\n",
            "[I 2024-01-21 17:47:21,096] Trial 75 finished with value: 0.9466666666666667 and parameters: {'n_estimators': 7, 'max_depth': 18.89452251197173}. Best is trial 14 with value: 0.9733333333333333.\n",
            "[I 2024-01-21 17:47:21,168] Trial 76 finished with value: 0.9333333333333332 and parameters: {'n_estimators': 10, 'max_depth': 2.831174973708964}. Best is trial 14 with value: 0.9733333333333333.\n",
            "[I 2024-01-21 17:47:21,281] Trial 77 finished with value: 0.9666666666666667 and parameters: {'n_estimators': 19, 'max_depth': 4.854577395210218}. Best is trial 14 with value: 0.9733333333333333.\n",
            "[I 2024-01-21 17:47:21,352] Trial 78 finished with value: 0.9466666666666667 and parameters: {'n_estimators': 9, 'max_depth': 15.561699775283612}. Best is trial 14 with value: 0.9733333333333333.\n",
            "[I 2024-01-21 17:47:21,467] Trial 79 finished with value: 0.9666666666666667 and parameters: {'n_estimators': 20, 'max_depth': 12.706241878986033}. Best is trial 14 with value: 0.9733333333333333.\n",
            "[I 2024-01-21 17:47:21,573] Trial 80 finished with value: 0.96 and parameters: {'n_estimators': 18, 'max_depth': 24.204971680836582}. Best is trial 14 with value: 0.9733333333333333.\n",
            "[I 2024-01-21 17:47:21,656] Trial 81 finished with value: 0.9666666666666667 and parameters: {'n_estimators': 12, 'max_depth': 5.270525987262582}. Best is trial 14 with value: 0.9733333333333333.\n",
            "[I 2024-01-21 17:47:21,739] Trial 82 finished with value: 0.9533333333333333 and parameters: {'n_estimators': 13, 'max_depth': 4.61271409731525}. Best is trial 14 with value: 0.9733333333333333.\n",
            "[I 2024-01-21 17:47:21,835] Trial 83 finished with value: 0.9533333333333333 and parameters: {'n_estimators': 14, 'max_depth': 1.029058966474702}. Best is trial 14 with value: 0.9733333333333333.\n",
            "[I 2024-01-21 17:47:21,933] Trial 84 finished with value: 0.9666666666666667 and parameters: {'n_estimators': 15, 'max_depth': 6.155747556291563}. Best is trial 14 with value: 0.9733333333333333.\n",
            "[I 2024-01-21 17:47:22,029] Trial 85 finished with value: 0.96 and parameters: {'n_estimators': 17, 'max_depth': 7.002254555087338}. Best is trial 14 with value: 0.9733333333333333.\n",
            "[I 2024-01-21 17:47:22,101] Trial 86 finished with value: 0.9666666666666667 and parameters: {'n_estimators': 11, 'max_depth': 7.886230834640915}. Best is trial 14 with value: 0.9733333333333333.\n",
            "[I 2024-01-21 17:47:22,197] Trial 87 finished with value: 0.9533333333333333 and parameters: {'n_estimators': 16, 'max_depth': 3.9662220434142457}. Best is trial 14 with value: 0.9733333333333333.\n",
            "[I 2024-01-21 17:47:22,315] Trial 88 finished with value: 0.9533333333333333 and parameters: {'n_estimators': 19, 'max_depth': 5.415624409231762}. Best is trial 14 with value: 0.9733333333333333.\n",
            "[I 2024-01-21 17:47:22,450] Trial 89 finished with value: 0.96 and parameters: {'n_estimators': 12, 'max_depth': 14.189547961904513}. Best is trial 14 with value: 0.9733333333333333.\n",
            "[I 2024-01-21 17:47:22,615] Trial 90 finished with value: 0.9666666666666667 and parameters: {'n_estimators': 20, 'max_depth': 4.792613702323037}. Best is trial 14 with value: 0.9733333333333333.\n",
            "[I 2024-01-21 17:47:22,781] Trial 91 finished with value: 0.96 and parameters: {'n_estimators': 19, 'max_depth': 17.924378313487736}. Best is trial 14 with value: 0.9733333333333333.\n",
            "[I 2024-01-21 17:47:22,957] Trial 92 finished with value: 0.9666666666666667 and parameters: {'n_estimators': 19, 'max_depth': 16.71461175655788}. Best is trial 14 with value: 0.9733333333333333.\n",
            "[I 2024-01-21 17:47:23,142] Trial 93 finished with value: 0.96 and parameters: {'n_estimators': 18, 'max_depth': 20.700570359041198}. Best is trial 14 with value: 0.9733333333333333.\n",
            "[I 2024-01-21 17:47:23,329] Trial 94 finished with value: 0.9666666666666667 and parameters: {'n_estimators': 20, 'max_depth': 26.822316412632738}. Best is trial 14 with value: 0.9733333333333333.\n",
            "[I 2024-01-21 17:47:23,484] Trial 95 finished with value: 0.9533333333333333 and parameters: {'n_estimators': 17, 'max_depth': 18.9646842170384}. Best is trial 14 with value: 0.9733333333333333.\n",
            "[I 2024-01-21 17:47:23,590] Trial 96 finished with value: 0.9533333333333333 and parameters: {'n_estimators': 8, 'max_depth': 5.8326768881503295}. Best is trial 14 with value: 0.9733333333333333.\n",
            "[I 2024-01-21 17:47:23,774] Trial 97 finished with value: 0.9466666666666667 and parameters: {'n_estimators': 18, 'max_depth': 23.561235695700805}. Best is trial 14 with value: 0.9733333333333333.\n",
            "[I 2024-01-21 17:47:23,944] Trial 98 finished with value: 0.9666666666666667 and parameters: {'n_estimators': 15, 'max_depth': 3.6345393048841417}. Best is trial 14 with value: 0.9733333333333333.\n",
            "[I 2024-01-21 17:47:24,135] Trial 99 finished with value: 0.9666666666666667 and parameters: {'n_estimators': 20, 'max_depth': 17.758864505626732}. Best is trial 14 with value: 0.9733333333333333.\n"
          ]
        },
        {
          "output_type": "stream",
          "name": "stdout",
          "text": [
            "Accuracy: 0.9733333333333333\n",
            "Best hyperparameters: {'n_estimators': 20, 'max_depth': 4.634025186672749}\n"
          ]
        }
      ],
      "source": [
        "import optuna\n",
        "\n",
        "def objective(trial):\n",
        "    iris = sklearn.datasets.load_iris()\n",
        "\n",
        "    n_estimators = trial.suggest_int('n_estimators', 2, 20)\n",
        "    max_depth = int(trial.suggest_float('max_depth', 1, 32, log=True))\n",
        "\n",
        "    clf = sklearn.ensemble.RandomForestClassifier(\n",
        "        n_estimators=n_estimators, max_depth=max_depth)\n",
        "\n",
        "    return sklearn.model_selection.cross_val_score(\n",
        "        clf, iris.data, iris.target, n_jobs=-1, cv=3).mean()\n",
        "\n",
        "study = optuna.create_study(direction='maximize')\n",
        "study.optimize(objective, n_trials=100)\n",
        "\n",
        "trial = study.best_trial\n",
        "\n",
        "print('Accuracy: {}'.format(trial.value))\n",
        "print(\"Best hyperparameters: {}\".format(trial.params))"
      ]
    },
    {
      "cell_type": "markdown",
      "metadata": {
        "id": "zrod7nrDH0Wt"
      },
      "source": [
        "It is possible to condition hyperparameters using Python `if` statements. We can for instance include another classifier, a support vector machine, in our HPO and define hyperparameters specific to the random forest model and the support vector machine."
      ]
    },
    {
      "cell_type": "code",
      "execution_count": 5,
      "metadata": {
        "id": "VHQab_4IH0Wt",
        "outputId": "0f8c626c-4a63-40ac-faef-8ac9d69abfdb",
        "colab": {
          "base_uri": "https://localhost:8080/"
        }
      },
      "outputs": [
        {
          "output_type": "stream",
          "name": "stderr",
          "text": [
            "[I 2024-01-21 17:48:48,966] A new study created in memory with name: no-name-3b16e275-a35f-4f5d-accd-1207204b8f31\n",
            "[I 2024-01-21 17:48:49,005] Trial 0 finished with value: 0.7466666666666667 and parameters: {'classifier': 'RandomForest', 'n_estimators': 3, 'max_depth': 1.1933758941385677}. Best is trial 0 with value: 0.7466666666666667.\n",
            "[I 2024-01-21 17:48:49,096] Trial 1 finished with value: 0.96 and parameters: {'classifier': 'RandomForest', 'n_estimators': 14, 'max_depth': 4.989883064088834}. Best is trial 1 with value: 0.96.\n",
            "[I 2024-01-21 17:48:49,215] Trial 2 finished with value: 0.9466666666666667 and parameters: {'classifier': 'RandomForest', 'n_estimators': 13, 'max_depth': 16.774717401695543}. Best is trial 1 with value: 0.96.\n",
            "[I 2024-01-21 17:48:49,346] Trial 3 finished with value: 0.96 and parameters: {'classifier': 'RandomForest', 'n_estimators': 15, 'max_depth': 5.816846354172031}. Best is trial 1 with value: 0.96.\n",
            "[I 2024-01-21 17:48:49,431] Trial 4 finished with value: 0.7600000000000001 and parameters: {'classifier': 'RandomForest', 'n_estimators': 7, 'max_depth': 1.6441770688355801}. Best is trial 1 with value: 0.96.\n",
            "[I 2024-01-21 17:48:49,465] Trial 5 finished with value: 0.96 and parameters: {'classifier': 'SVC', 'svc_c': 700655922.6413687}. Best is trial 1 with value: 0.96.\n",
            "[I 2024-01-21 17:48:49,489] Trial 6 finished with value: 0.96 and parameters: {'classifier': 'SVC', 'svc_c': 1394138904.7049334}. Best is trial 1 with value: 0.96.\n",
            "[I 2024-01-21 17:48:49,514] Trial 7 finished with value: 0.32 and parameters: {'classifier': 'SVC', 'svc_c': 4.032122570226402e-06}. Best is trial 1 with value: 0.96.\n",
            "[I 2024-01-21 17:48:49,680] Trial 8 finished with value: 0.9533333333333333 and parameters: {'classifier': 'RandomForest', 'n_estimators': 18, 'max_depth': 4.706027767705111}. Best is trial 1 with value: 0.96.\n",
            "[I 2024-01-21 17:48:49,713] Trial 9 finished with value: 0.96 and parameters: {'classifier': 'SVC', 'svc_c': 256456173.53059945}. Best is trial 1 with value: 0.96.\n",
            "[I 2024-01-21 17:48:49,903] Trial 10 finished with value: 0.9666666666666667 and parameters: {'classifier': 'RandomForest', 'n_estimators': 20, 'max_depth': 31.183587989173375}. Best is trial 10 with value: 0.9666666666666667.\n",
            "[I 2024-01-21 17:48:50,260] Trial 11 finished with value: 0.9533333333333333 and parameters: {'classifier': 'RandomForest', 'n_estimators': 20, 'max_depth': 25.92522538000628}. Best is trial 10 with value: 0.9666666666666667.\n",
            "[I 2024-01-21 17:48:50,460] Trial 12 finished with value: 0.9533333333333333 and parameters: {'classifier': 'RandomForest', 'n_estimators': 10, 'max_depth': 7.4650529387317714}. Best is trial 10 with value: 0.9666666666666667.\n",
            "[I 2024-01-21 17:48:50,809] Trial 13 finished with value: 0.94 and parameters: {'classifier': 'RandomForest', 'n_estimators': 16, 'max_depth': 2.8884199765988128}. Best is trial 10 with value: 0.9666666666666667.\n",
            "[I 2024-01-21 17:48:51,174] Trial 14 finished with value: 0.96 and parameters: {'classifier': 'RandomForest', 'n_estimators': 20, 'max_depth': 12.46750958347507}. Best is trial 10 with value: 0.9666666666666667.\n",
            "[I 2024-01-21 17:48:51,433] Trial 15 finished with value: 0.9533333333333333 and parameters: {'classifier': 'RandomForest', 'n_estimators': 11, 'max_depth': 11.533938327223643}. Best is trial 10 with value: 0.9666666666666667.\n",
            "[I 2024-01-21 17:48:51,749] Trial 16 finished with value: 0.96 and parameters: {'classifier': 'RandomForest', 'n_estimators': 16, 'max_depth': 2.499815319711495}. Best is trial 10 with value: 0.9666666666666667.\n",
            "[I 2024-01-21 17:48:51,898] Trial 17 finished with value: 0.9533333333333333 and parameters: {'classifier': 'RandomForest', 'n_estimators': 7, 'max_depth': 30.37190523953651}. Best is trial 10 with value: 0.9666666666666667.\n",
            "[I 2024-01-21 17:48:51,968] Trial 18 finished with value: 0.32 and parameters: {'classifier': 'SVC', 'svc_c': 1.4492932601098994e-10}. Best is trial 10 with value: 0.9666666666666667.\n",
            "[I 2024-01-21 17:48:52,265] Trial 19 finished with value: 0.96 and parameters: {'classifier': 'RandomForest', 'n_estimators': 13, 'max_depth': 3.780244374752797}. Best is trial 10 with value: 0.9666666666666667.\n",
            "[I 2024-01-21 17:48:52,560] Trial 20 finished with value: 0.9666666666666667 and parameters: {'classifier': 'RandomForest', 'n_estimators': 18, 'max_depth': 8.459818420842652}. Best is trial 10 with value: 0.9666666666666667.\n",
            "[I 2024-01-21 17:48:52,823] Trial 21 finished with value: 0.9533333333333333 and parameters: {'classifier': 'RandomForest', 'n_estimators': 18, 'max_depth': 8.224538747931824}. Best is trial 10 with value: 0.9666666666666667.\n",
            "[I 2024-01-21 17:48:53,059] Trial 22 finished with value: 0.9666666666666667 and parameters: {'classifier': 'RandomForest', 'n_estimators': 18, 'max_depth': 16.066773298084573}. Best is trial 10 with value: 0.9666666666666667.\n",
            "[I 2024-01-21 17:48:53,261] Trial 23 finished with value: 0.9533333333333333 and parameters: {'classifier': 'RandomForest', 'n_estimators': 18, 'max_depth': 19.287343621660355}. Best is trial 10 with value: 0.9666666666666667.\n",
            "[I 2024-01-21 17:48:53,478] Trial 24 finished with value: 0.96 and parameters: {'classifier': 'RandomForest', 'n_estimators': 20, 'max_depth': 19.854287499077998}. Best is trial 10 with value: 0.9666666666666667.\n",
            "[I 2024-01-21 17:48:53,792] Trial 25 finished with value: 0.96 and parameters: {'classifier': 'RandomForest', 'n_estimators': 17, 'max_depth': 13.320760042029661}. Best is trial 10 with value: 0.9666666666666667.\n",
            "[I 2024-01-21 17:48:53,854] Trial 26 finished with value: 0.9733333333333333 and parameters: {'classifier': 'SVC', 'svc_c': 15.429030819542433}. Best is trial 26 with value: 0.9733333333333333.\n",
            "[I 2024-01-21 17:48:53,919] Trial 27 finished with value: 0.9666666666666667 and parameters: {'classifier': 'SVC', 'svc_c': 17.397014450860787}. Best is trial 26 with value: 0.9733333333333333.\n",
            "[I 2024-01-21 17:48:53,965] Trial 28 finished with value: 0.96 and parameters: {'classifier': 'SVC', 'svc_c': 0.47247782723105947}. Best is trial 26 with value: 0.9733333333333333.\n",
            "[I 2024-01-21 17:48:54,021] Trial 29 finished with value: 0.96 and parameters: {'classifier': 'SVC', 'svc_c': 148.67750259197373}. Best is trial 26 with value: 0.9733333333333333.\n",
            "[I 2024-01-21 17:48:54,067] Trial 30 finished with value: 0.32 and parameters: {'classifier': 'SVC', 'svc_c': 0.0003635539038737398}. Best is trial 26 with value: 0.9733333333333333.\n",
            "[I 2024-01-21 17:48:54,260] Trial 31 finished with value: 0.96 and parameters: {'classifier': 'RandomForest', 'n_estimators': 19, 'max_depth': 9.246492033152776}. Best is trial 26 with value: 0.9733333333333333.\n",
            "[I 2024-01-21 17:48:54,298] Trial 32 finished with value: 0.96 and parameters: {'classifier': 'SVC', 'svc_c': 65273.76814139494}. Best is trial 26 with value: 0.9733333333333333.\n",
            "[I 2024-01-21 17:48:54,468] Trial 33 finished with value: 0.96 and parameters: {'classifier': 'RandomForest', 'n_estimators': 16, 'max_depth': 23.730451405866}. Best is trial 26 with value: 0.9733333333333333.\n",
            "[I 2024-01-21 17:48:54,675] Trial 34 finished with value: 0.9466666666666667 and parameters: {'classifier': 'RandomForest', 'n_estimators': 18, 'max_depth': 31.912488452364716}. Best is trial 26 with value: 0.9733333333333333.\n",
            "[I 2024-01-21 17:48:54,788] Trial 35 finished with value: 0.94 and parameters: {'classifier': 'RandomForest', 'n_estimators': 9, 'max_depth': 15.373999251492222}. Best is trial 26 with value: 0.9733333333333333.\n",
            "[I 2024-01-21 17:48:54,971] Trial 36 finished with value: 0.9466666666666667 and parameters: {'classifier': 'RandomForest', 'n_estimators': 14, 'max_depth': 21.0663701373373}. Best is trial 26 with value: 0.9733333333333333.\n",
            "[I 2024-01-21 17:48:55,005] Trial 37 finished with value: 0.96 and parameters: {'classifier': 'SVC', 'svc_c': 130164.77325655239}. Best is trial 26 with value: 0.9733333333333333.\n",
            "[I 2024-01-21 17:48:55,210] Trial 38 finished with value: 0.96 and parameters: {'classifier': 'RandomForest', 'n_estimators': 20, 'max_depth': 10.319163576248817}. Best is trial 26 with value: 0.9733333333333333.\n",
            "[I 2024-01-21 17:48:55,267] Trial 39 finished with value: 0.32 and parameters: {'classifier': 'SVC', 'svc_c': 0.002415879323547202}. Best is trial 26 with value: 0.9733333333333333.\n",
            "[I 2024-01-21 17:48:55,386] Trial 40 finished with value: 0.9466666666666667 and parameters: {'classifier': 'RandomForest', 'n_estimators': 3, 'max_depth': 7.153161390430079}. Best is trial 26 with value: 0.9733333333333333.\n",
            "[I 2024-01-21 17:48:55,419] Trial 41 finished with value: 0.96 and parameters: {'classifier': 'SVC', 'svc_c': 88.95927041885236}. Best is trial 26 with value: 0.9733333333333333.\n",
            "[I 2024-01-21 17:48:55,459] Trial 42 finished with value: 0.9733333333333333 and parameters: {'classifier': 'SVC', 'svc_c': 1.1349332767002303}. Best is trial 26 with value: 0.9733333333333333.\n",
            "[I 2024-01-21 17:48:55,493] Trial 43 finished with value: 0.96 and parameters: {'classifier': 'SVC', 'svc_c': 85667.21429175243}. Best is trial 26 with value: 0.9733333333333333.\n",
            "[I 2024-01-21 17:48:55,535] Trial 44 finished with value: 0.94 and parameters: {'classifier': 'SVC', 'svc_c': 0.09322625225407925}. Best is trial 26 with value: 0.9733333333333333.\n",
            "[I 2024-01-21 17:48:55,570] Trial 45 finished with value: 0.32 and parameters: {'classifier': 'SVC', 'svc_c': 1.364614809630031e-06}. Best is trial 26 with value: 0.9733333333333333.\n",
            "[I 2024-01-21 17:48:55,616] Trial 46 finished with value: 0.96 and parameters: {'classifier': 'SVC', 'svc_c': 5552.37128301242}. Best is trial 26 with value: 0.9733333333333333.\n",
            "[I 2024-01-21 17:48:55,712] Trial 47 finished with value: 0.96 and parameters: {'classifier': 'RandomForest', 'n_estimators': 17, 'max_depth': 14.831783940056178}. Best is trial 26 with value: 0.9733333333333333.\n",
            "[I 2024-01-21 17:48:55,736] Trial 48 finished with value: 0.32 and parameters: {'classifier': 'SVC', 'svc_c': 0.0013961071260059816}. Best is trial 26 with value: 0.9733333333333333.\n",
            "[I 2024-01-21 17:48:55,778] Trial 49 finished with value: 0.8466666666666667 and parameters: {'classifier': 'RandomForest', 'n_estimators': 3, 'max_depth': 1.005857116764473}. Best is trial 26 with value: 0.9733333333333333.\n",
            "[I 2024-01-21 17:48:55,902] Trial 50 finished with value: 0.9533333333333333 and parameters: {'classifier': 'RandomForest', 'n_estimators': 19, 'max_depth': 26.272544860469072}. Best is trial 26 with value: 0.9733333333333333.\n",
            "[I 2024-01-21 17:48:55,927] Trial 51 finished with value: 0.9666666666666667 and parameters: {'classifier': 'SVC', 'svc_c': 40.58582300461282}. Best is trial 26 with value: 0.9733333333333333.\n",
            "[I 2024-01-21 17:48:55,952] Trial 52 finished with value: 0.9733333333333333 and parameters: {'classifier': 'SVC', 'svc_c': 2.664617581116032}. Best is trial 26 with value: 0.9733333333333333.\n",
            "[I 2024-01-21 17:48:55,979] Trial 53 finished with value: 0.96 and parameters: {'classifier': 'SVC', 'svc_c': 0.26298966456601747}. Best is trial 26 with value: 0.9733333333333333.\n",
            "[I 2024-01-21 17:48:56,003] Trial 54 finished with value: 0.96 and parameters: {'classifier': 'SVC', 'svc_c': 3461.0681784582775}. Best is trial 26 with value: 0.9733333333333333.\n",
            "[I 2024-01-21 17:48:56,027] Trial 55 finished with value: 0.96 and parameters: {'classifier': 'SVC', 'svc_c': 21068188.370612547}. Best is trial 26 with value: 0.9733333333333333.\n",
            "[I 2024-01-21 17:48:56,052] Trial 56 finished with value: 0.7533333333333333 and parameters: {'classifier': 'SVC', 'svc_c': 0.03021167475795262}. Best is trial 26 with value: 0.9733333333333333.\n",
            "[I 2024-01-21 17:48:56,136] Trial 57 finished with value: 0.9533333333333333 and parameters: {'classifier': 'RandomForest', 'n_estimators': 13, 'max_depth': 16.895318478929823}. Best is trial 26 with value: 0.9733333333333333.\n",
            "[I 2024-01-21 17:48:56,229] Trial 58 finished with value: 0.9666666666666667 and parameters: {'classifier': 'RandomForest', 'n_estimators': 15, 'max_depth': 10.066293686307528}. Best is trial 26 with value: 0.9733333333333333.\n",
            "[I 2024-01-21 17:48:56,255] Trial 59 finished with value: 0.9733333333333333 and parameters: {'classifier': 'SVC', 'svc_c': 2.846591548371086}. Best is trial 26 with value: 0.9733333333333333.\n",
            "[I 2024-01-21 17:48:56,281] Trial 60 finished with value: 0.98 and parameters: {'classifier': 'SVC', 'svc_c': 5.375574550273616}. Best is trial 60 with value: 0.98.\n",
            "[I 2024-01-21 17:48:56,311] Trial 61 finished with value: 0.9866666666666667 and parameters: {'classifier': 'SVC', 'svc_c': 4.917272706903988}. Best is trial 61 with value: 0.9866666666666667.\n",
            "[I 2024-01-21 17:48:56,335] Trial 62 finished with value: 0.98 and parameters: {'classifier': 'SVC', 'svc_c': 7.072670204666381}. Best is trial 61 with value: 0.9866666666666667.\n",
            "[I 2024-01-21 17:48:56,360] Trial 63 finished with value: 0.98 and parameters: {'classifier': 'SVC', 'svc_c': 7.50763223515382}. Best is trial 61 with value: 0.9866666666666667.\n",
            "[I 2024-01-21 17:48:56,387] Trial 64 finished with value: 0.9733333333333333 and parameters: {'classifier': 'SVC', 'svc_c': 3.0782230743521324}. Best is trial 61 with value: 0.9866666666666667.\n",
            "[I 2024-01-21 17:48:56,419] Trial 65 finished with value: 0.9466666666666667 and parameters: {'classifier': 'SVC', 'svc_c': 385.67728133468563}. Best is trial 61 with value: 0.9866666666666667.\n",
            "[I 2024-01-21 17:48:56,444] Trial 66 finished with value: 0.9666666666666667 and parameters: {'classifier': 'SVC', 'svc_c': 1.4689952572275213}. Best is trial 61 with value: 0.9866666666666667.\n",
            "[I 2024-01-21 17:48:56,468] Trial 67 finished with value: 0.98 and parameters: {'classifier': 'SVC', 'svc_c': 8.176294983200048}. Best is trial 61 with value: 0.9866666666666667.\n",
            "[I 2024-01-21 17:48:56,493] Trial 68 finished with value: 0.7400000000000001 and parameters: {'classifier': 'SVC', 'svc_c': 0.02068860246027459}. Best is trial 61 with value: 0.9866666666666667.\n",
            "[I 2024-01-21 17:48:56,518] Trial 69 finished with value: 0.9733333333333333 and parameters: {'classifier': 'SVC', 'svc_c': 14.33717677211474}. Best is trial 61 with value: 0.9866666666666667.\n",
            "[I 2024-01-21 17:48:56,544] Trial 70 finished with value: 0.96 and parameters: {'classifier': 'SVC', 'svc_c': 2045.0004328365367}. Best is trial 61 with value: 0.9866666666666667.\n",
            "[I 2024-01-21 17:48:56,569] Trial 71 finished with value: 0.98 and parameters: {'classifier': 'SVC', 'svc_c': 6.5699398910951805}. Best is trial 61 with value: 0.9866666666666667.\n",
            "[I 2024-01-21 17:48:56,595] Trial 72 finished with value: 0.9733333333333333 and parameters: {'classifier': 'SVC', 'svc_c': 14.705330507955663}. Best is trial 61 with value: 0.9866666666666667.\n",
            "[I 2024-01-21 17:48:56,621] Trial 73 finished with value: 0.9466666666666667 and parameters: {'classifier': 'SVC', 'svc_c': 350.00994416449646}. Best is trial 61 with value: 0.9866666666666667.\n",
            "[I 2024-01-21 17:48:56,647] Trial 74 finished with value: 0.96 and parameters: {'classifier': 'SVC', 'svc_c': 0.29378980102562025}. Best is trial 61 with value: 0.9866666666666667.\n",
            "[I 2024-01-21 17:48:56,673] Trial 75 finished with value: 0.98 and parameters: {'classifier': 'SVC', 'svc_c': 6.840629521040423}. Best is trial 61 with value: 0.9866666666666667.\n",
            "[I 2024-01-21 17:48:56,703] Trial 76 finished with value: 0.9666666666666667 and parameters: {'classifier': 'SVC', 'svc_c': 21.697604476896366}. Best is trial 61 with value: 0.9866666666666667.\n",
            "[I 2024-01-21 17:48:56,732] Trial 77 finished with value: 0.9466666666666667 and parameters: {'classifier': 'SVC', 'svc_c': 289.0745811146689}. Best is trial 61 with value: 0.9866666666666667.\n",
            "[I 2024-01-21 17:48:56,757] Trial 78 finished with value: 0.9733333333333333 and parameters: {'classifier': 'SVC', 'svc_c': 12.082846223269744}. Best is trial 61 with value: 0.9866666666666667.\n",
            "[I 2024-01-21 17:48:56,785] Trial 79 finished with value: 0.32 and parameters: {'classifier': 'SVC', 'svc_c': 0.016585498418307306}. Best is trial 61 with value: 0.9866666666666667.\n",
            "[I 2024-01-21 17:48:56,815] Trial 80 finished with value: 0.96 and parameters: {'classifier': 'SVC', 'svc_c': 0.3738167865490063}. Best is trial 61 with value: 0.9866666666666667.\n",
            "[I 2024-01-21 17:48:56,845] Trial 81 finished with value: 0.9666666666666667 and parameters: {'classifier': 'SVC', 'svc_c': 1.5752336721868574}. Best is trial 61 with value: 0.9866666666666667.\n",
            "[I 2024-01-21 17:48:56,872] Trial 82 finished with value: 0.9666666666666667 and parameters: {'classifier': 'SVC', 'svc_c': 41.55522544673047}. Best is trial 61 with value: 0.9866666666666667.\n",
            "[I 2024-01-21 17:48:56,911] Trial 83 finished with value: 0.98 and parameters: {'classifier': 'SVC', 'svc_c': 5.5783378628959275}. Best is trial 61 with value: 0.9866666666666667.\n",
            "[I 2024-01-21 17:48:56,938] Trial 84 finished with value: 0.98 and parameters: {'classifier': 'SVC', 'svc_c': 6.374840032122168}. Best is trial 61 with value: 0.9866666666666667.\n",
            "[I 2024-01-21 17:48:56,969] Trial 85 finished with value: 0.98 and parameters: {'classifier': 'SVC', 'svc_c': 6.013185173876094}. Best is trial 61 with value: 0.9866666666666667.\n",
            "[I 2024-01-21 17:48:56,995] Trial 86 finished with value: 0.9466666666666667 and parameters: {'classifier': 'SVC', 'svc_c': 190.29852795764802}. Best is trial 61 with value: 0.9866666666666667.\n",
            "[I 2024-01-21 17:48:57,021] Trial 87 finished with value: 0.9466666666666667 and parameters: {'classifier': 'SVC', 'svc_c': 0.11008909637018577}. Best is trial 61 with value: 0.9866666666666667.\n",
            "[I 2024-01-21 17:48:57,051] Trial 88 finished with value: 0.96 and parameters: {'classifier': 'SVC', 'svc_c': 1277.5506270958115}. Best is trial 61 with value: 0.9866666666666667.\n",
            "[I 2024-01-21 17:48:57,079] Trial 89 finished with value: 0.96 and parameters: {'classifier': 'SVC', 'svc_c': 84.80737731295119}. Best is trial 61 with value: 0.9866666666666667.\n",
            "[I 2024-01-21 17:48:57,105] Trial 90 finished with value: 0.9733333333333333 and parameters: {'classifier': 'SVC', 'svc_c': 1.0256860792646203}. Best is trial 61 with value: 0.9866666666666667.\n",
            "[I 2024-01-21 17:48:57,134] Trial 91 finished with value: 0.98 and parameters: {'classifier': 'SVC', 'svc_c': 5.790236402156474}. Best is trial 61 with value: 0.9866666666666667.\n",
            "[I 2024-01-21 17:48:57,166] Trial 92 finished with value: 0.98 and parameters: {'classifier': 'SVC', 'svc_c': 9.072473664435156}. Best is trial 61 with value: 0.9866666666666667.\n",
            "[I 2024-01-21 17:48:57,193] Trial 93 finished with value: 0.96 and parameters: {'classifier': 'SVC', 'svc_c': 52.62062023475318}. Best is trial 61 with value: 0.9866666666666667.\n",
            "[I 2024-01-21 17:48:57,217] Trial 94 finished with value: 0.32 and parameters: {'classifier': 'SVC', 'svc_c': 1.0471932453102842e-10}. Best is trial 61 with value: 0.9866666666666667.\n",
            "[I 2024-01-21 17:48:57,242] Trial 95 finished with value: 0.94 and parameters: {'classifier': 'SVC', 'svc_c': 0.09489386204517306}. Best is trial 61 with value: 0.9866666666666667.\n",
            "[I 2024-01-21 17:48:57,267] Trial 96 finished with value: 0.96 and parameters: {'classifier': 'SVC', 'svc_c': 17791.342274586485}. Best is trial 61 with value: 0.9866666666666667.\n",
            "[I 2024-01-21 17:48:57,292] Trial 97 finished with value: 0.9733333333333333 and parameters: {'classifier': 'SVC', 'svc_c': 1.0682434458238754}. Best is trial 61 with value: 0.9866666666666667.\n",
            "[I 2024-01-21 17:48:57,318] Trial 98 finished with value: 0.98 and parameters: {'classifier': 'SVC', 'svc_c': 7.667763720769062}. Best is trial 61 with value: 0.9866666666666667.\n",
            "[I 2024-01-21 17:48:57,343] Trial 99 finished with value: 0.32 and parameters: {'classifier': 'SVC', 'svc_c': 0.006207431128438123}. Best is trial 61 with value: 0.9866666666666667.\n"
          ]
        },
        {
          "output_type": "stream",
          "name": "stdout",
          "text": [
            "Accuracy: 0.9866666666666667\n",
            "Best hyperparameters: {'classifier': 'SVC', 'svc_c': 4.917272706903988}\n"
          ]
        }
      ],
      "source": [
        "import sklearn.svm\n",
        "\n",
        "def objective(trial):\n",
        "    iris = sklearn.datasets.load_iris()\n",
        "\n",
        "    classifier = trial.suggest_categorical('classifier', ['RandomForest', 'SVC'])\n",
        "\n",
        "    if classifier == 'RandomForest':\n",
        "        n_estimators = trial.suggest_int('n_estimators', 2, 20)\n",
        "        max_depth = int(trial.suggest_float('max_depth', 1, 32, log=True))\n",
        "\n",
        "        clf = sklearn.ensemble.RandomForestClassifier(\n",
        "            n_estimators=n_estimators, max_depth=max_depth)\n",
        "    else:\n",
        "        c = trial.suggest_float('svc_c', 1e-10, 1e10, log=True)\n",
        "\n",
        "        clf = sklearn.svm.SVC(C=c, gamma='auto')\n",
        "\n",
        "    return sklearn.model_selection.cross_val_score(\n",
        "        clf, iris.data, iris.target, n_jobs=-1, cv=3).mean()\n",
        "\n",
        "study = optuna.create_study(direction='maximize')\n",
        "study.optimize(objective, n_trials=100)\n",
        "\n",
        "trial = study.best_trial\n",
        "\n",
        "print('Accuracy: {}'.format(trial.value))\n",
        "print(\"Best hyperparameters: {}\".format(trial.params))"
      ]
    },
    {
      "cell_type": "markdown",
      "metadata": {
        "id": "KVhydwvgH0Wu"
      },
      "source": [
        "### Plotting the study\n",
        "\n",
        "Plotting the optimization history of the study."
      ]
    },
    {
      "cell_type": "code",
      "execution_count": 6,
      "metadata": {
        "id": "yHNvJWLVH0Wu",
        "outputId": "af290363-6b6a-4dbf-d87b-6d754320f7b0",
        "colab": {
          "base_uri": "https://localhost:8080/",
          "height": 542
        }
      },
      "outputs": [
        {
          "output_type": "display_data",
          "data": {
            "text/html": [
              "<html>\n",
              "<head><meta charset=\"utf-8\" /></head>\n",
              "<body>\n",
              "    <div>            <script src=\"https://cdnjs.cloudflare.com/ajax/libs/mathjax/2.7.5/MathJax.js?config=TeX-AMS-MML_SVG\"></script><script type=\"text/javascript\">if (window.MathJax && window.MathJax.Hub && window.MathJax.Hub.Config) {window.MathJax.Hub.Config({SVG: {font: \"STIX-Web\"}});}</script>                <script type=\"text/javascript\">window.PlotlyConfig = {MathJaxConfig: 'local'};</script>\n",
              "        <script charset=\"utf-8\" src=\"https://cdn.plot.ly/plotly-2.24.1.min.js\"></script>                <div id=\"cc3bd9ed-03e5-48ba-924a-bf25573e39b5\" class=\"plotly-graph-div\" style=\"height:525px; width:100%;\"></div>            <script type=\"text/javascript\">                                    window.PLOTLYENV=window.PLOTLYENV || {};                                    if (document.getElementById(\"cc3bd9ed-03e5-48ba-924a-bf25573e39b5\")) {                    Plotly.newPlot(                        \"cc3bd9ed-03e5-48ba-924a-bf25573e39b5\",                        [{\"mode\":\"markers\",\"name\":\"Objective Value\",\"x\":[0,1,2,3,4,5,6,7,8,9,10,11,12,13,14,15,16,17,18,19,20,21,22,23,24,25,26,27,28,29,30,31,32,33,34,35,36,37,38,39,40,41,42,43,44,45,46,47,48,49,50,51,52,53,54,55,56,57,58,59,60,61,62,63,64,65,66,67,68,69,70,71,72,73,74,75,76,77,78,79,80,81,82,83,84,85,86,87,88,89,90,91,92,93,94,95,96,97,98,99],\"y\":[0.7466666666666667,0.96,0.9466666666666667,0.96,0.7600000000000001,0.96,0.96,0.32,0.9533333333333333,0.96,0.9666666666666667,0.9533333333333333,0.9533333333333333,0.94,0.96,0.9533333333333333,0.96,0.9533333333333333,0.32,0.96,0.9666666666666667,0.9533333333333333,0.9666666666666667,0.9533333333333333,0.96,0.96,0.9733333333333333,0.9666666666666667,0.96,0.96,0.32,0.96,0.96,0.96,0.9466666666666667,0.94,0.9466666666666667,0.96,0.96,0.32,0.9466666666666667,0.96,0.9733333333333333,0.96,0.94,0.32,0.96,0.96,0.32,0.8466666666666667,0.9533333333333333,0.9666666666666667,0.9733333333333333,0.96,0.96,0.96,0.7533333333333333,0.9533333333333333,0.9666666666666667,0.9733333333333333,0.98,0.9866666666666667,0.98,0.98,0.9733333333333333,0.9466666666666667,0.9666666666666667,0.98,0.7400000000000001,0.9733333333333333,0.96,0.98,0.9733333333333333,0.9466666666666667,0.96,0.98,0.9666666666666667,0.9466666666666667,0.9733333333333333,0.32,0.96,0.9666666666666667,0.9666666666666667,0.98,0.98,0.98,0.9466666666666667,0.9466666666666667,0.96,0.96,0.9733333333333333,0.98,0.98,0.96,0.32,0.94,0.96,0.9733333333333333,0.98,0.32],\"type\":\"scatter\"},{\"mode\":\"lines\",\"name\":\"Best Value\",\"x\":[0,1,2,3,4,5,6,7,8,9,10,11,12,13,14,15,16,17,18,19,20,21,22,23,24,25,26,27,28,29,30,31,32,33,34,35,36,37,38,39,40,41,42,43,44,45,46,47,48,49,50,51,52,53,54,55,56,57,58,59,60,61,62,63,64,65,66,67,68,69,70,71,72,73,74,75,76,77,78,79,80,81,82,83,84,85,86,87,88,89,90,91,92,93,94,95,96,97,98,99],\"y\":[0.7466666666666667,0.96,0.96,0.96,0.96,0.96,0.96,0.96,0.96,0.96,0.9666666666666667,0.9666666666666667,0.9666666666666667,0.9666666666666667,0.9666666666666667,0.9666666666666667,0.9666666666666667,0.9666666666666667,0.9666666666666667,0.9666666666666667,0.9666666666666667,0.9666666666666667,0.9666666666666667,0.9666666666666667,0.9666666666666667,0.9666666666666667,0.9733333333333333,0.9733333333333333,0.9733333333333333,0.9733333333333333,0.9733333333333333,0.9733333333333333,0.9733333333333333,0.9733333333333333,0.9733333333333333,0.9733333333333333,0.9733333333333333,0.9733333333333333,0.9733333333333333,0.9733333333333333,0.9733333333333333,0.9733333333333333,0.9733333333333333,0.9733333333333333,0.9733333333333333,0.9733333333333333,0.9733333333333333,0.9733333333333333,0.9733333333333333,0.9733333333333333,0.9733333333333333,0.9733333333333333,0.9733333333333333,0.9733333333333333,0.9733333333333333,0.9733333333333333,0.9733333333333333,0.9733333333333333,0.9733333333333333,0.9733333333333333,0.98,0.9866666666666667,0.9866666666666667,0.9866666666666667,0.9866666666666667,0.9866666666666667,0.9866666666666667,0.9866666666666667,0.9866666666666667,0.9866666666666667,0.9866666666666667,0.9866666666666667,0.9866666666666667,0.9866666666666667,0.9866666666666667,0.9866666666666667,0.9866666666666667,0.9866666666666667,0.9866666666666667,0.9866666666666667,0.9866666666666667,0.9866666666666667,0.9866666666666667,0.9866666666666667,0.9866666666666667,0.9866666666666667,0.9866666666666667,0.9866666666666667,0.9866666666666667,0.9866666666666667,0.9866666666666667,0.9866666666666667,0.9866666666666667,0.9866666666666667,0.9866666666666667,0.9866666666666667,0.9866666666666667,0.9866666666666667,0.9866666666666667,0.9866666666666667],\"type\":\"scatter\"},{\"marker\":{\"color\":\"#cccccc\"},\"mode\":\"markers\",\"name\":\"Infeasible Trial\",\"showlegend\":false,\"x\":[],\"y\":[],\"type\":\"scatter\"}],                        {\"title\":{\"text\":\"Optimization History Plot\"},\"xaxis\":{\"title\":{\"text\":\"Trial\"}},\"yaxis\":{\"title\":{\"text\":\"Objective Value\"}},\"template\":{\"data\":{\"histogram2dcontour\":[{\"type\":\"histogram2dcontour\",\"colorbar\":{\"outlinewidth\":0,\"ticks\":\"\"},\"colorscale\":[[0.0,\"#0d0887\"],[0.1111111111111111,\"#46039f\"],[0.2222222222222222,\"#7201a8\"],[0.3333333333333333,\"#9c179e\"],[0.4444444444444444,\"#bd3786\"],[0.5555555555555556,\"#d8576b\"],[0.6666666666666666,\"#ed7953\"],[0.7777777777777778,\"#fb9f3a\"],[0.8888888888888888,\"#fdca26\"],[1.0,\"#f0f921\"]]}],\"choropleth\":[{\"type\":\"choropleth\",\"colorbar\":{\"outlinewidth\":0,\"ticks\":\"\"}}],\"histogram2d\":[{\"type\":\"histogram2d\",\"colorbar\":{\"outlinewidth\":0,\"ticks\":\"\"},\"colorscale\":[[0.0,\"#0d0887\"],[0.1111111111111111,\"#46039f\"],[0.2222222222222222,\"#7201a8\"],[0.3333333333333333,\"#9c179e\"],[0.4444444444444444,\"#bd3786\"],[0.5555555555555556,\"#d8576b\"],[0.6666666666666666,\"#ed7953\"],[0.7777777777777778,\"#fb9f3a\"],[0.8888888888888888,\"#fdca26\"],[1.0,\"#f0f921\"]]}],\"heatmap\":[{\"type\":\"heatmap\",\"colorbar\":{\"outlinewidth\":0,\"ticks\":\"\"},\"colorscale\":[[0.0,\"#0d0887\"],[0.1111111111111111,\"#46039f\"],[0.2222222222222222,\"#7201a8\"],[0.3333333333333333,\"#9c179e\"],[0.4444444444444444,\"#bd3786\"],[0.5555555555555556,\"#d8576b\"],[0.6666666666666666,\"#ed7953\"],[0.7777777777777778,\"#fb9f3a\"],[0.8888888888888888,\"#fdca26\"],[1.0,\"#f0f921\"]]}],\"heatmapgl\":[{\"type\":\"heatmapgl\",\"colorbar\":{\"outlinewidth\":0,\"ticks\":\"\"},\"colorscale\":[[0.0,\"#0d0887\"],[0.1111111111111111,\"#46039f\"],[0.2222222222222222,\"#7201a8\"],[0.3333333333333333,\"#9c179e\"],[0.4444444444444444,\"#bd3786\"],[0.5555555555555556,\"#d8576b\"],[0.6666666666666666,\"#ed7953\"],[0.7777777777777778,\"#fb9f3a\"],[0.8888888888888888,\"#fdca26\"],[1.0,\"#f0f921\"]]}],\"contourcarpet\":[{\"type\":\"contourcarpet\",\"colorbar\":{\"outlinewidth\":0,\"ticks\":\"\"}}],\"contour\":[{\"type\":\"contour\",\"colorbar\":{\"outlinewidth\":0,\"ticks\":\"\"},\"colorscale\":[[0.0,\"#0d0887\"],[0.1111111111111111,\"#46039f\"],[0.2222222222222222,\"#7201a8\"],[0.3333333333333333,\"#9c179e\"],[0.4444444444444444,\"#bd3786\"],[0.5555555555555556,\"#d8576b\"],[0.6666666666666666,\"#ed7953\"],[0.7777777777777778,\"#fb9f3a\"],[0.8888888888888888,\"#fdca26\"],[1.0,\"#f0f921\"]]}],\"surface\":[{\"type\":\"surface\",\"colorbar\":{\"outlinewidth\":0,\"ticks\":\"\"},\"colorscale\":[[0.0,\"#0d0887\"],[0.1111111111111111,\"#46039f\"],[0.2222222222222222,\"#7201a8\"],[0.3333333333333333,\"#9c179e\"],[0.4444444444444444,\"#bd3786\"],[0.5555555555555556,\"#d8576b\"],[0.6666666666666666,\"#ed7953\"],[0.7777777777777778,\"#fb9f3a\"],[0.8888888888888888,\"#fdca26\"],[1.0,\"#f0f921\"]]}],\"mesh3d\":[{\"type\":\"mesh3d\",\"colorbar\":{\"outlinewidth\":0,\"ticks\":\"\"}}],\"scatter\":[{\"fillpattern\":{\"fillmode\":\"overlay\",\"size\":10,\"solidity\":0.2},\"type\":\"scatter\"}],\"parcoords\":[{\"type\":\"parcoords\",\"line\":{\"colorbar\":{\"outlinewidth\":0,\"ticks\":\"\"}}}],\"scatterpolargl\":[{\"type\":\"scatterpolargl\",\"marker\":{\"colorbar\":{\"outlinewidth\":0,\"ticks\":\"\"}}}],\"bar\":[{\"error_x\":{\"color\":\"#2a3f5f\"},\"error_y\":{\"color\":\"#2a3f5f\"},\"marker\":{\"line\":{\"color\":\"#E5ECF6\",\"width\":0.5},\"pattern\":{\"fillmode\":\"overlay\",\"size\":10,\"solidity\":0.2}},\"type\":\"bar\"}],\"scattergeo\":[{\"type\":\"scattergeo\",\"marker\":{\"colorbar\":{\"outlinewidth\":0,\"ticks\":\"\"}}}],\"scatterpolar\":[{\"type\":\"scatterpolar\",\"marker\":{\"colorbar\":{\"outlinewidth\":0,\"ticks\":\"\"}}}],\"histogram\":[{\"marker\":{\"pattern\":{\"fillmode\":\"overlay\",\"size\":10,\"solidity\":0.2}},\"type\":\"histogram\"}],\"scattergl\":[{\"type\":\"scattergl\",\"marker\":{\"colorbar\":{\"outlinewidth\":0,\"ticks\":\"\"}}}],\"scatter3d\":[{\"type\":\"scatter3d\",\"line\":{\"colorbar\":{\"outlinewidth\":0,\"ticks\":\"\"}},\"marker\":{\"colorbar\":{\"outlinewidth\":0,\"ticks\":\"\"}}}],\"scattermapbox\":[{\"type\":\"scattermapbox\",\"marker\":{\"colorbar\":{\"outlinewidth\":0,\"ticks\":\"\"}}}],\"scatterternary\":[{\"type\":\"scatterternary\",\"marker\":{\"colorbar\":{\"outlinewidth\":0,\"ticks\":\"\"}}}],\"scattercarpet\":[{\"type\":\"scattercarpet\",\"marker\":{\"colorbar\":{\"outlinewidth\":0,\"ticks\":\"\"}}}],\"carpet\":[{\"aaxis\":{\"endlinecolor\":\"#2a3f5f\",\"gridcolor\":\"white\",\"linecolor\":\"white\",\"minorgridcolor\":\"white\",\"startlinecolor\":\"#2a3f5f\"},\"baxis\":{\"endlinecolor\":\"#2a3f5f\",\"gridcolor\":\"white\",\"linecolor\":\"white\",\"minorgridcolor\":\"white\",\"startlinecolor\":\"#2a3f5f\"},\"type\":\"carpet\"}],\"table\":[{\"cells\":{\"fill\":{\"color\":\"#EBF0F8\"},\"line\":{\"color\":\"white\"}},\"header\":{\"fill\":{\"color\":\"#C8D4E3\"},\"line\":{\"color\":\"white\"}},\"type\":\"table\"}],\"barpolar\":[{\"marker\":{\"line\":{\"color\":\"#E5ECF6\",\"width\":0.5},\"pattern\":{\"fillmode\":\"overlay\",\"size\":10,\"solidity\":0.2}},\"type\":\"barpolar\"}],\"pie\":[{\"automargin\":true,\"type\":\"pie\"}]},\"layout\":{\"autotypenumbers\":\"strict\",\"colorway\":[\"#636efa\",\"#EF553B\",\"#00cc96\",\"#ab63fa\",\"#FFA15A\",\"#19d3f3\",\"#FF6692\",\"#B6E880\",\"#FF97FF\",\"#FECB52\"],\"font\":{\"color\":\"#2a3f5f\"},\"hovermode\":\"closest\",\"hoverlabel\":{\"align\":\"left\"},\"paper_bgcolor\":\"white\",\"plot_bgcolor\":\"#E5ECF6\",\"polar\":{\"bgcolor\":\"#E5ECF6\",\"angularaxis\":{\"gridcolor\":\"white\",\"linecolor\":\"white\",\"ticks\":\"\"},\"radialaxis\":{\"gridcolor\":\"white\",\"linecolor\":\"white\",\"ticks\":\"\"}},\"ternary\":{\"bgcolor\":\"#E5ECF6\",\"aaxis\":{\"gridcolor\":\"white\",\"linecolor\":\"white\",\"ticks\":\"\"},\"baxis\":{\"gridcolor\":\"white\",\"linecolor\":\"white\",\"ticks\":\"\"},\"caxis\":{\"gridcolor\":\"white\",\"linecolor\":\"white\",\"ticks\":\"\"}},\"coloraxis\":{\"colorbar\":{\"outlinewidth\":0,\"ticks\":\"\"}},\"colorscale\":{\"sequential\":[[0.0,\"#0d0887\"],[0.1111111111111111,\"#46039f\"],[0.2222222222222222,\"#7201a8\"],[0.3333333333333333,\"#9c179e\"],[0.4444444444444444,\"#bd3786\"],[0.5555555555555556,\"#d8576b\"],[0.6666666666666666,\"#ed7953\"],[0.7777777777777778,\"#fb9f3a\"],[0.8888888888888888,\"#fdca26\"],[1.0,\"#f0f921\"]],\"sequentialminus\":[[0.0,\"#0d0887\"],[0.1111111111111111,\"#46039f\"],[0.2222222222222222,\"#7201a8\"],[0.3333333333333333,\"#9c179e\"],[0.4444444444444444,\"#bd3786\"],[0.5555555555555556,\"#d8576b\"],[0.6666666666666666,\"#ed7953\"],[0.7777777777777778,\"#fb9f3a\"],[0.8888888888888888,\"#fdca26\"],[1.0,\"#f0f921\"]],\"diverging\":[[0,\"#8e0152\"],[0.1,\"#c51b7d\"],[0.2,\"#de77ae\"],[0.3,\"#f1b6da\"],[0.4,\"#fde0ef\"],[0.5,\"#f7f7f7\"],[0.6,\"#e6f5d0\"],[0.7,\"#b8e186\"],[0.8,\"#7fbc41\"],[0.9,\"#4d9221\"],[1,\"#276419\"]]},\"xaxis\":{\"gridcolor\":\"white\",\"linecolor\":\"white\",\"ticks\":\"\",\"title\":{\"standoff\":15},\"zerolinecolor\":\"white\",\"automargin\":true,\"zerolinewidth\":2},\"yaxis\":{\"gridcolor\":\"white\",\"linecolor\":\"white\",\"ticks\":\"\",\"title\":{\"standoff\":15},\"zerolinecolor\":\"white\",\"automargin\":true,\"zerolinewidth\":2},\"scene\":{\"xaxis\":{\"backgroundcolor\":\"#E5ECF6\",\"gridcolor\":\"white\",\"linecolor\":\"white\",\"showbackground\":true,\"ticks\":\"\",\"zerolinecolor\":\"white\",\"gridwidth\":2},\"yaxis\":{\"backgroundcolor\":\"#E5ECF6\",\"gridcolor\":\"white\",\"linecolor\":\"white\",\"showbackground\":true,\"ticks\":\"\",\"zerolinecolor\":\"white\",\"gridwidth\":2},\"zaxis\":{\"backgroundcolor\":\"#E5ECF6\",\"gridcolor\":\"white\",\"linecolor\":\"white\",\"showbackground\":true,\"ticks\":\"\",\"zerolinecolor\":\"white\",\"gridwidth\":2}},\"shapedefaults\":{\"line\":{\"color\":\"#2a3f5f\"}},\"annotationdefaults\":{\"arrowcolor\":\"#2a3f5f\",\"arrowhead\":0,\"arrowwidth\":1},\"geo\":{\"bgcolor\":\"white\",\"landcolor\":\"#E5ECF6\",\"subunitcolor\":\"white\",\"showland\":true,\"showlakes\":true,\"lakecolor\":\"white\"},\"title\":{\"x\":0.05},\"mapbox\":{\"style\":\"light\"}}}},                        {\"responsive\": true}                    ).then(function(){\n",
              "                            \n",
              "var gd = document.getElementById('cc3bd9ed-03e5-48ba-924a-bf25573e39b5');\n",
              "var x = new MutationObserver(function (mutations, observer) {{\n",
              "        var display = window.getComputedStyle(gd).display;\n",
              "        if (!display || display === 'none') {{\n",
              "            console.log([gd, 'removed!']);\n",
              "            Plotly.purge(gd);\n",
              "            observer.disconnect();\n",
              "        }}\n",
              "}});\n",
              "\n",
              "// Listen for the removal of the full notebook cells\n",
              "var notebookContainer = gd.closest('#notebook-container');\n",
              "if (notebookContainer) {{\n",
              "    x.observe(notebookContainer, {childList: true});\n",
              "}}\n",
              "\n",
              "// Listen for the clearing of the current output cell\n",
              "var outputEl = gd.closest('.output');\n",
              "if (outputEl) {{\n",
              "    x.observe(outputEl, {childList: true});\n",
              "}}\n",
              "\n",
              "                        })                };                            </script>        </div>\n",
              "</body>\n",
              "</html>"
            ]
          },
          "metadata": {}
        }
      ],
      "source": [
        "optuna.visualization.plot_optimization_history(study)"
      ]
    },
    {
      "cell_type": "markdown",
      "metadata": {
        "id": "00Ms8J-IH0Wu"
      },
      "source": [
        "Plotting the accuracies for each hyperparameter for each trial."
      ]
    },
    {
      "cell_type": "code",
      "execution_count": 7,
      "metadata": {
        "id": "X01H0U6IH0Wu",
        "outputId": "4bed28bc-fc61-45a2-fabd-9b2c7effef28",
        "colab": {
          "base_uri": "https://localhost:8080/",
          "height": 542
        }
      },
      "outputs": [
        {
          "output_type": "display_data",
          "data": {
            "text/html": [
              "<html>\n",
              "<head><meta charset=\"utf-8\" /></head>\n",
              "<body>\n",
              "    <div>            <script src=\"https://cdnjs.cloudflare.com/ajax/libs/mathjax/2.7.5/MathJax.js?config=TeX-AMS-MML_SVG\"></script><script type=\"text/javascript\">if (window.MathJax && window.MathJax.Hub && window.MathJax.Hub.Config) {window.MathJax.Hub.Config({SVG: {font: \"STIX-Web\"}});}</script>                <script type=\"text/javascript\">window.PlotlyConfig = {MathJaxConfig: 'local'};</script>\n",
              "        <script charset=\"utf-8\" src=\"https://cdn.plot.ly/plotly-2.24.1.min.js\"></script>                <div id=\"a64c6490-7e5a-48f1-a577-29b519a0f977\" class=\"plotly-graph-div\" style=\"height:525px; width:1200px;\"></div>            <script type=\"text/javascript\">                                    window.PLOTLYENV=window.PLOTLYENV || {};                                    if (document.getElementById(\"a64c6490-7e5a-48f1-a577-29b519a0f977\")) {                    Plotly.newPlot(                        \"a64c6490-7e5a-48f1-a577-29b519a0f977\",                        [{\"marker\":{\"color\":[0,1,2,3,4,5,6,7,8,9,10,11,12,13,14,15,16,17,18,19,20,21,22,23,24,25,26,27,28,29,30,31,32,33,34,35,36,37,38,39,40,41,42,43,44,45,46,47,48,49,50,51,52,53,54,55,56,57,58,59,60,61,62,63,64,65,66,67,68,69,70,71,72,73,74,75,76,77,78,79,80,81,82,83,84,85,86,87,88,89,90,91,92,93,94,95,96,97,98,99],\"colorbar\":{\"title\":{\"text\":\"Trial\"},\"x\":1.0,\"xpad\":40},\"colorscale\":[[0.0,\"rgb(247,251,255)\"],[0.125,\"rgb(222,235,247)\"],[0.25,\"rgb(198,219,239)\"],[0.375,\"rgb(158,202,225)\"],[0.5,\"rgb(107,174,214)\"],[0.625,\"rgb(66,146,198)\"],[0.75,\"rgb(33,113,181)\"],[0.875,\"rgb(8,81,156)\"],[1.0,\"rgb(8,48,107)\"]],\"line\":{\"color\":\"Grey\",\"width\":0.5},\"showscale\":true},\"mode\":\"markers\",\"name\":\"Feasible Trial\",\"showlegend\":false,\"x\":[\"RandomForest\",\"RandomForest\",\"RandomForest\",\"RandomForest\",\"RandomForest\",\"SVC\",\"SVC\",\"SVC\",\"RandomForest\",\"SVC\",\"RandomForest\",\"RandomForest\",\"RandomForest\",\"RandomForest\",\"RandomForest\",\"RandomForest\",\"RandomForest\",\"RandomForest\",\"SVC\",\"RandomForest\",\"RandomForest\",\"RandomForest\",\"RandomForest\",\"RandomForest\",\"RandomForest\",\"RandomForest\",\"SVC\",\"SVC\",\"SVC\",\"SVC\",\"SVC\",\"RandomForest\",\"SVC\",\"RandomForest\",\"RandomForest\",\"RandomForest\",\"RandomForest\",\"SVC\",\"RandomForest\",\"SVC\",\"RandomForest\",\"SVC\",\"SVC\",\"SVC\",\"SVC\",\"SVC\",\"SVC\",\"RandomForest\",\"SVC\",\"RandomForest\",\"RandomForest\",\"SVC\",\"SVC\",\"SVC\",\"SVC\",\"SVC\",\"SVC\",\"RandomForest\",\"RandomForest\",\"SVC\",\"SVC\",\"SVC\",\"SVC\",\"SVC\",\"SVC\",\"SVC\",\"SVC\",\"SVC\",\"SVC\",\"SVC\",\"SVC\",\"SVC\",\"SVC\",\"SVC\",\"SVC\",\"SVC\",\"SVC\",\"SVC\",\"SVC\",\"SVC\",\"SVC\",\"SVC\",\"SVC\",\"SVC\",\"SVC\",\"SVC\",\"SVC\",\"SVC\",\"SVC\",\"SVC\",\"SVC\",\"SVC\",\"SVC\",\"SVC\",\"SVC\",\"SVC\",\"SVC\",\"SVC\",\"SVC\",\"SVC\"],\"y\":[0.7466666666666667,0.96,0.9466666666666667,0.96,0.7600000000000001,0.96,0.96,0.32,0.9533333333333333,0.96,0.9666666666666667,0.9533333333333333,0.9533333333333333,0.94,0.96,0.9533333333333333,0.96,0.9533333333333333,0.32,0.96,0.9666666666666667,0.9533333333333333,0.9666666666666667,0.9533333333333333,0.96,0.96,0.9733333333333333,0.9666666666666667,0.96,0.96,0.32,0.96,0.96,0.96,0.9466666666666667,0.94,0.9466666666666667,0.96,0.96,0.32,0.9466666666666667,0.96,0.9733333333333333,0.96,0.94,0.32,0.96,0.96,0.32,0.8466666666666667,0.9533333333333333,0.9666666666666667,0.9733333333333333,0.96,0.96,0.96,0.7533333333333333,0.9533333333333333,0.9666666666666667,0.9733333333333333,0.98,0.9866666666666667,0.98,0.98,0.9733333333333333,0.9466666666666667,0.9666666666666667,0.98,0.7400000000000001,0.9733333333333333,0.96,0.98,0.9733333333333333,0.9466666666666667,0.96,0.98,0.9666666666666667,0.9466666666666667,0.9733333333333333,0.32,0.96,0.9666666666666667,0.9666666666666667,0.98,0.98,0.98,0.9466666666666667,0.9466666666666667,0.96,0.96,0.9733333333333333,0.98,0.98,0.96,0.32,0.94,0.96,0.9733333333333333,0.98,0.32],\"type\":\"scatter\",\"xaxis\":\"x\",\"yaxis\":\"y\"},{\"marker\":{\"color\":[0,1,2,3,4,8,10,11,12,13,14,15,16,17,19,20,21,22,23,24,25,31,33,34,35,36,38,40,47,49,50,57,58],\"colorbar\":{\"title\":{\"text\":\"Trial\"},\"x\":1.0,\"xpad\":40},\"colorscale\":[[0.0,\"rgb(247,251,255)\"],[0.125,\"rgb(222,235,247)\"],[0.25,\"rgb(198,219,239)\"],[0.375,\"rgb(158,202,225)\"],[0.5,\"rgb(107,174,214)\"],[0.625,\"rgb(66,146,198)\"],[0.75,\"rgb(33,113,181)\"],[0.875,\"rgb(8,81,156)\"],[1.0,\"rgb(8,48,107)\"]],\"line\":{\"color\":\"Grey\",\"width\":0.5},\"showscale\":false},\"mode\":\"markers\",\"name\":\"Feasible Trial\",\"showlegend\":false,\"x\":[1.1933758941385677,4.989883064088834,16.774717401695543,5.816846354172031,1.6441770688355801,4.706027767705111,31.183587989173375,25.92522538000628,7.4650529387317714,2.8884199765988128,12.46750958347507,11.533938327223643,2.499815319711495,30.37190523953651,3.780244374752797,8.459818420842652,8.224538747931824,16.066773298084573,19.287343621660355,19.854287499077998,13.320760042029661,9.246492033152776,23.730451405866,31.912488452364716,15.373999251492222,21.0663701373373,10.319163576248817,7.153161390430079,14.831783940056178,1.005857116764473,26.272544860469072,16.895318478929823,10.066293686307528],\"y\":[0.7466666666666667,0.96,0.9466666666666667,0.96,0.7600000000000001,0.9533333333333333,0.9666666666666667,0.9533333333333333,0.9533333333333333,0.94,0.96,0.9533333333333333,0.96,0.9533333333333333,0.96,0.9666666666666667,0.9533333333333333,0.9666666666666667,0.9533333333333333,0.96,0.96,0.96,0.96,0.9466666666666667,0.94,0.9466666666666667,0.96,0.9466666666666667,0.96,0.8466666666666667,0.9533333333333333,0.9533333333333333,0.9666666666666667],\"type\":\"scatter\",\"xaxis\":\"x2\",\"yaxis\":\"y2\"},{\"marker\":{\"color\":[0,1,2,3,4,8,10,11,12,13,14,15,16,17,19,20,21,22,23,24,25,31,33,34,35,36,38,40,47,49,50,57,58],\"colorbar\":{\"title\":{\"text\":\"Trial\"},\"x\":1.0,\"xpad\":40},\"colorscale\":[[0.0,\"rgb(247,251,255)\"],[0.125,\"rgb(222,235,247)\"],[0.25,\"rgb(198,219,239)\"],[0.375,\"rgb(158,202,225)\"],[0.5,\"rgb(107,174,214)\"],[0.625,\"rgb(66,146,198)\"],[0.75,\"rgb(33,113,181)\"],[0.875,\"rgb(8,81,156)\"],[1.0,\"rgb(8,48,107)\"]],\"line\":{\"color\":\"Grey\",\"width\":0.5},\"showscale\":false},\"mode\":\"markers\",\"name\":\"Feasible Trial\",\"showlegend\":false,\"x\":[3,14,13,15,7,18,20,20,10,16,20,11,16,7,13,18,18,18,18,20,17,19,16,18,9,14,20,3,17,3,19,13,15],\"y\":[0.7466666666666667,0.96,0.9466666666666667,0.96,0.7600000000000001,0.9533333333333333,0.9666666666666667,0.9533333333333333,0.9533333333333333,0.94,0.96,0.9533333333333333,0.96,0.9533333333333333,0.96,0.9666666666666667,0.9533333333333333,0.9666666666666667,0.9533333333333333,0.96,0.96,0.96,0.96,0.9466666666666667,0.94,0.9466666666666667,0.96,0.9466666666666667,0.96,0.8466666666666667,0.9533333333333333,0.9533333333333333,0.9666666666666667],\"type\":\"scatter\",\"xaxis\":\"x3\",\"yaxis\":\"y3\"},{\"marker\":{\"color\":[5,6,7,9,18,26,27,28,29,30,32,37,39,41,42,43,44,45,46,48,51,52,53,54,55,56,59,60,61,62,63,64,65,66,67,68,69,70,71,72,73,74,75,76,77,78,79,80,81,82,83,84,85,86,87,88,89,90,91,92,93,94,95,96,97,98,99],\"colorbar\":{\"title\":{\"text\":\"Trial\"},\"x\":1.0,\"xpad\":40},\"colorscale\":[[0.0,\"rgb(247,251,255)\"],[0.125,\"rgb(222,235,247)\"],[0.25,\"rgb(198,219,239)\"],[0.375,\"rgb(158,202,225)\"],[0.5,\"rgb(107,174,214)\"],[0.625,\"rgb(66,146,198)\"],[0.75,\"rgb(33,113,181)\"],[0.875,\"rgb(8,81,156)\"],[1.0,\"rgb(8,48,107)\"]],\"line\":{\"color\":\"Grey\",\"width\":0.5},\"showscale\":false},\"mode\":\"markers\",\"name\":\"Feasible Trial\",\"showlegend\":false,\"x\":[700655922.6413687,1394138904.7049334,4.032122570226402e-06,256456173.53059945,1.4492932601098994e-10,15.429030819542433,17.397014450860787,0.47247782723105947,148.67750259197373,0.0003635539038737398,65273.76814139494,130164.77325655239,0.002415879323547202,88.95927041885236,1.1349332767002303,85667.21429175243,0.09322625225407925,1.364614809630031e-06,5552.37128301242,0.0013961071260059816,40.58582300461282,2.664617581116032,0.26298966456601747,3461.0681784582775,21068188.370612547,0.03021167475795262,2.846591548371086,5.375574550273616,4.917272706903988,7.072670204666381,7.50763223515382,3.0782230743521324,385.67728133468563,1.4689952572275213,8.176294983200048,0.02068860246027459,14.33717677211474,2045.0004328365367,6.5699398910951805,14.705330507955663,350.00994416449646,0.29378980102562025,6.840629521040423,21.697604476896366,289.0745811146689,12.082846223269744,0.016585498418307306,0.3738167865490063,1.5752336721868574,41.55522544673047,5.5783378628959275,6.374840032122168,6.013185173876094,190.29852795764802,0.11008909637018577,1277.5506270958115,84.80737731295119,1.0256860792646203,5.790236402156474,9.072473664435156,52.62062023475318,1.0471932453102842e-10,0.09489386204517306,17791.342274586485,1.0682434458238754,7.667763720769062,0.006207431128438123],\"y\":[0.96,0.96,0.32,0.96,0.32,0.9733333333333333,0.9666666666666667,0.96,0.96,0.32,0.96,0.96,0.32,0.96,0.9733333333333333,0.96,0.94,0.32,0.96,0.32,0.9666666666666667,0.9733333333333333,0.96,0.96,0.96,0.7533333333333333,0.9733333333333333,0.98,0.9866666666666667,0.98,0.98,0.9733333333333333,0.9466666666666667,0.9666666666666667,0.98,0.7400000000000001,0.9733333333333333,0.96,0.98,0.9733333333333333,0.9466666666666667,0.96,0.98,0.9666666666666667,0.9466666666666667,0.9733333333333333,0.32,0.96,0.9666666666666667,0.9666666666666667,0.98,0.98,0.98,0.9466666666666667,0.9466666666666667,0.96,0.96,0.9733333333333333,0.98,0.98,0.96,0.32,0.94,0.96,0.9733333333333333,0.98,0.32],\"type\":\"scatter\",\"xaxis\":\"x4\",\"yaxis\":\"y4\"}],                        {\"template\":{\"data\":{\"histogram2dcontour\":[{\"type\":\"histogram2dcontour\",\"colorbar\":{\"outlinewidth\":0,\"ticks\":\"\"},\"colorscale\":[[0.0,\"#0d0887\"],[0.1111111111111111,\"#46039f\"],[0.2222222222222222,\"#7201a8\"],[0.3333333333333333,\"#9c179e\"],[0.4444444444444444,\"#bd3786\"],[0.5555555555555556,\"#d8576b\"],[0.6666666666666666,\"#ed7953\"],[0.7777777777777778,\"#fb9f3a\"],[0.8888888888888888,\"#fdca26\"],[1.0,\"#f0f921\"]]}],\"choropleth\":[{\"type\":\"choropleth\",\"colorbar\":{\"outlinewidth\":0,\"ticks\":\"\"}}],\"histogram2d\":[{\"type\":\"histogram2d\",\"colorbar\":{\"outlinewidth\":0,\"ticks\":\"\"},\"colorscale\":[[0.0,\"#0d0887\"],[0.1111111111111111,\"#46039f\"],[0.2222222222222222,\"#7201a8\"],[0.3333333333333333,\"#9c179e\"],[0.4444444444444444,\"#bd3786\"],[0.5555555555555556,\"#d8576b\"],[0.6666666666666666,\"#ed7953\"],[0.7777777777777778,\"#fb9f3a\"],[0.8888888888888888,\"#fdca26\"],[1.0,\"#f0f921\"]]}],\"heatmap\":[{\"type\":\"heatmap\",\"colorbar\":{\"outlinewidth\":0,\"ticks\":\"\"},\"colorscale\":[[0.0,\"#0d0887\"],[0.1111111111111111,\"#46039f\"],[0.2222222222222222,\"#7201a8\"],[0.3333333333333333,\"#9c179e\"],[0.4444444444444444,\"#bd3786\"],[0.5555555555555556,\"#d8576b\"],[0.6666666666666666,\"#ed7953\"],[0.7777777777777778,\"#fb9f3a\"],[0.8888888888888888,\"#fdca26\"],[1.0,\"#f0f921\"]]}],\"heatmapgl\":[{\"type\":\"heatmapgl\",\"colorbar\":{\"outlinewidth\":0,\"ticks\":\"\"},\"colorscale\":[[0.0,\"#0d0887\"],[0.1111111111111111,\"#46039f\"],[0.2222222222222222,\"#7201a8\"],[0.3333333333333333,\"#9c179e\"],[0.4444444444444444,\"#bd3786\"],[0.5555555555555556,\"#d8576b\"],[0.6666666666666666,\"#ed7953\"],[0.7777777777777778,\"#fb9f3a\"],[0.8888888888888888,\"#fdca26\"],[1.0,\"#f0f921\"]]}],\"contourcarpet\":[{\"type\":\"contourcarpet\",\"colorbar\":{\"outlinewidth\":0,\"ticks\":\"\"}}],\"contour\":[{\"type\":\"contour\",\"colorbar\":{\"outlinewidth\":0,\"ticks\":\"\"},\"colorscale\":[[0.0,\"#0d0887\"],[0.1111111111111111,\"#46039f\"],[0.2222222222222222,\"#7201a8\"],[0.3333333333333333,\"#9c179e\"],[0.4444444444444444,\"#bd3786\"],[0.5555555555555556,\"#d8576b\"],[0.6666666666666666,\"#ed7953\"],[0.7777777777777778,\"#fb9f3a\"],[0.8888888888888888,\"#fdca26\"],[1.0,\"#f0f921\"]]}],\"surface\":[{\"type\":\"surface\",\"colorbar\":{\"outlinewidth\":0,\"ticks\":\"\"},\"colorscale\":[[0.0,\"#0d0887\"],[0.1111111111111111,\"#46039f\"],[0.2222222222222222,\"#7201a8\"],[0.3333333333333333,\"#9c179e\"],[0.4444444444444444,\"#bd3786\"],[0.5555555555555556,\"#d8576b\"],[0.6666666666666666,\"#ed7953\"],[0.7777777777777778,\"#fb9f3a\"],[0.8888888888888888,\"#fdca26\"],[1.0,\"#f0f921\"]]}],\"mesh3d\":[{\"type\":\"mesh3d\",\"colorbar\":{\"outlinewidth\":0,\"ticks\":\"\"}}],\"scatter\":[{\"fillpattern\":{\"fillmode\":\"overlay\",\"size\":10,\"solidity\":0.2},\"type\":\"scatter\"}],\"parcoords\":[{\"type\":\"parcoords\",\"line\":{\"colorbar\":{\"outlinewidth\":0,\"ticks\":\"\"}}}],\"scatterpolargl\":[{\"type\":\"scatterpolargl\",\"marker\":{\"colorbar\":{\"outlinewidth\":0,\"ticks\":\"\"}}}],\"bar\":[{\"error_x\":{\"color\":\"#2a3f5f\"},\"error_y\":{\"color\":\"#2a3f5f\"},\"marker\":{\"line\":{\"color\":\"#E5ECF6\",\"width\":0.5},\"pattern\":{\"fillmode\":\"overlay\",\"size\":10,\"solidity\":0.2}},\"type\":\"bar\"}],\"scattergeo\":[{\"type\":\"scattergeo\",\"marker\":{\"colorbar\":{\"outlinewidth\":0,\"ticks\":\"\"}}}],\"scatterpolar\":[{\"type\":\"scatterpolar\",\"marker\":{\"colorbar\":{\"outlinewidth\":0,\"ticks\":\"\"}}}],\"histogram\":[{\"marker\":{\"pattern\":{\"fillmode\":\"overlay\",\"size\":10,\"solidity\":0.2}},\"type\":\"histogram\"}],\"scattergl\":[{\"type\":\"scattergl\",\"marker\":{\"colorbar\":{\"outlinewidth\":0,\"ticks\":\"\"}}}],\"scatter3d\":[{\"type\":\"scatter3d\",\"line\":{\"colorbar\":{\"outlinewidth\":0,\"ticks\":\"\"}},\"marker\":{\"colorbar\":{\"outlinewidth\":0,\"ticks\":\"\"}}}],\"scattermapbox\":[{\"type\":\"scattermapbox\",\"marker\":{\"colorbar\":{\"outlinewidth\":0,\"ticks\":\"\"}}}],\"scatterternary\":[{\"type\":\"scatterternary\",\"marker\":{\"colorbar\":{\"outlinewidth\":0,\"ticks\":\"\"}}}],\"scattercarpet\":[{\"type\":\"scattercarpet\",\"marker\":{\"colorbar\":{\"outlinewidth\":0,\"ticks\":\"\"}}}],\"carpet\":[{\"aaxis\":{\"endlinecolor\":\"#2a3f5f\",\"gridcolor\":\"white\",\"linecolor\":\"white\",\"minorgridcolor\":\"white\",\"startlinecolor\":\"#2a3f5f\"},\"baxis\":{\"endlinecolor\":\"#2a3f5f\",\"gridcolor\":\"white\",\"linecolor\":\"white\",\"minorgridcolor\":\"white\",\"startlinecolor\":\"#2a3f5f\"},\"type\":\"carpet\"}],\"table\":[{\"cells\":{\"fill\":{\"color\":\"#EBF0F8\"},\"line\":{\"color\":\"white\"}},\"header\":{\"fill\":{\"color\":\"#C8D4E3\"},\"line\":{\"color\":\"white\"}},\"type\":\"table\"}],\"barpolar\":[{\"marker\":{\"line\":{\"color\":\"#E5ECF6\",\"width\":0.5},\"pattern\":{\"fillmode\":\"overlay\",\"size\":10,\"solidity\":0.2}},\"type\":\"barpolar\"}],\"pie\":[{\"automargin\":true,\"type\":\"pie\"}]},\"layout\":{\"autotypenumbers\":\"strict\",\"colorway\":[\"#636efa\",\"#EF553B\",\"#00cc96\",\"#ab63fa\",\"#FFA15A\",\"#19d3f3\",\"#FF6692\",\"#B6E880\",\"#FF97FF\",\"#FECB52\"],\"font\":{\"color\":\"#2a3f5f\"},\"hovermode\":\"closest\",\"hoverlabel\":{\"align\":\"left\"},\"paper_bgcolor\":\"white\",\"plot_bgcolor\":\"#E5ECF6\",\"polar\":{\"bgcolor\":\"#E5ECF6\",\"angularaxis\":{\"gridcolor\":\"white\",\"linecolor\":\"white\",\"ticks\":\"\"},\"radialaxis\":{\"gridcolor\":\"white\",\"linecolor\":\"white\",\"ticks\":\"\"}},\"ternary\":{\"bgcolor\":\"#E5ECF6\",\"aaxis\":{\"gridcolor\":\"white\",\"linecolor\":\"white\",\"ticks\":\"\"},\"baxis\":{\"gridcolor\":\"white\",\"linecolor\":\"white\",\"ticks\":\"\"},\"caxis\":{\"gridcolor\":\"white\",\"linecolor\":\"white\",\"ticks\":\"\"}},\"coloraxis\":{\"colorbar\":{\"outlinewidth\":0,\"ticks\":\"\"}},\"colorscale\":{\"sequential\":[[0.0,\"#0d0887\"],[0.1111111111111111,\"#46039f\"],[0.2222222222222222,\"#7201a8\"],[0.3333333333333333,\"#9c179e\"],[0.4444444444444444,\"#bd3786\"],[0.5555555555555556,\"#d8576b\"],[0.6666666666666666,\"#ed7953\"],[0.7777777777777778,\"#fb9f3a\"],[0.8888888888888888,\"#fdca26\"],[1.0,\"#f0f921\"]],\"sequentialminus\":[[0.0,\"#0d0887\"],[0.1111111111111111,\"#46039f\"],[0.2222222222222222,\"#7201a8\"],[0.3333333333333333,\"#9c179e\"],[0.4444444444444444,\"#bd3786\"],[0.5555555555555556,\"#d8576b\"],[0.6666666666666666,\"#ed7953\"],[0.7777777777777778,\"#fb9f3a\"],[0.8888888888888888,\"#fdca26\"],[1.0,\"#f0f921\"]],\"diverging\":[[0,\"#8e0152\"],[0.1,\"#c51b7d\"],[0.2,\"#de77ae\"],[0.3,\"#f1b6da\"],[0.4,\"#fde0ef\"],[0.5,\"#f7f7f7\"],[0.6,\"#e6f5d0\"],[0.7,\"#b8e186\"],[0.8,\"#7fbc41\"],[0.9,\"#4d9221\"],[1,\"#276419\"]]},\"xaxis\":{\"gridcolor\":\"white\",\"linecolor\":\"white\",\"ticks\":\"\",\"title\":{\"standoff\":15},\"zerolinecolor\":\"white\",\"automargin\":true,\"zerolinewidth\":2},\"yaxis\":{\"gridcolor\":\"white\",\"linecolor\":\"white\",\"ticks\":\"\",\"title\":{\"standoff\":15},\"zerolinecolor\":\"white\",\"automargin\":true,\"zerolinewidth\":2},\"scene\":{\"xaxis\":{\"backgroundcolor\":\"#E5ECF6\",\"gridcolor\":\"white\",\"linecolor\":\"white\",\"showbackground\":true,\"ticks\":\"\",\"zerolinecolor\":\"white\",\"gridwidth\":2},\"yaxis\":{\"backgroundcolor\":\"#E5ECF6\",\"gridcolor\":\"white\",\"linecolor\":\"white\",\"showbackground\":true,\"ticks\":\"\",\"zerolinecolor\":\"white\",\"gridwidth\":2},\"zaxis\":{\"backgroundcolor\":\"#E5ECF6\",\"gridcolor\":\"white\",\"linecolor\":\"white\",\"showbackground\":true,\"ticks\":\"\",\"zerolinecolor\":\"white\",\"gridwidth\":2}},\"shapedefaults\":{\"line\":{\"color\":\"#2a3f5f\"}},\"annotationdefaults\":{\"arrowcolor\":\"#2a3f5f\",\"arrowhead\":0,\"arrowwidth\":1},\"geo\":{\"bgcolor\":\"white\",\"landcolor\":\"#E5ECF6\",\"subunitcolor\":\"white\",\"showland\":true,\"showlakes\":true,\"lakecolor\":\"white\"},\"title\":{\"x\":0.05},\"mapbox\":{\"style\":\"light\"}}},\"xaxis\":{\"anchor\":\"y\",\"domain\":[0.0,0.2125],\"title\":{\"text\":\"classifier\"},\"type\":\"category\",\"categoryorder\":\"array\",\"categoryarray\":[\"RandomForest\",\"SVC\"]},\"yaxis\":{\"anchor\":\"x\",\"domain\":[0.0,1.0],\"title\":{\"text\":\"Objective Value\"}},\"xaxis2\":{\"anchor\":\"y2\",\"domain\":[0.2625,0.475],\"title\":{\"text\":\"max_depth\"},\"type\":\"log\"},\"yaxis2\":{\"anchor\":\"x2\",\"domain\":[0.0,1.0],\"matches\":\"y\",\"showticklabels\":false},\"xaxis3\":{\"anchor\":\"y3\",\"domain\":[0.525,0.7375],\"title\":{\"text\":\"n_estimators\"}},\"yaxis3\":{\"anchor\":\"x3\",\"domain\":[0.0,1.0],\"matches\":\"y\",\"showticklabels\":false},\"xaxis4\":{\"anchor\":\"y4\",\"domain\":[0.7875,1.0],\"title\":{\"text\":\"svc_c\"},\"type\":\"log\"},\"yaxis4\":{\"anchor\":\"x4\",\"domain\":[0.0,1.0],\"matches\":\"y\",\"showticklabels\":false},\"title\":{\"text\":\"Slice Plot\"},\"width\":1200},                        {\"responsive\": true}                    ).then(function(){\n",
              "                            \n",
              "var gd = document.getElementById('a64c6490-7e5a-48f1-a577-29b519a0f977');\n",
              "var x = new MutationObserver(function (mutations, observer) {{\n",
              "        var display = window.getComputedStyle(gd).display;\n",
              "        if (!display || display === 'none') {{\n",
              "            console.log([gd, 'removed!']);\n",
              "            Plotly.purge(gd);\n",
              "            observer.disconnect();\n",
              "        }}\n",
              "}});\n",
              "\n",
              "// Listen for the removal of the full notebook cells\n",
              "var notebookContainer = gd.closest('#notebook-container');\n",
              "if (notebookContainer) {{\n",
              "    x.observe(notebookContainer, {childList: true});\n",
              "}}\n",
              "\n",
              "// Listen for the clearing of the current output cell\n",
              "var outputEl = gd.closest('.output');\n",
              "if (outputEl) {{\n",
              "    x.observe(outputEl, {childList: true});\n",
              "}}\n",
              "\n",
              "                        })                };                            </script>        </div>\n",
              "</body>\n",
              "</html>"
            ]
          },
          "metadata": {}
        }
      ],
      "source": [
        "optuna.visualization.plot_slice(study)"
      ]
    },
    {
      "cell_type": "markdown",
      "metadata": {
        "id": "3xpx8SwHH0Wu"
      },
      "source": [
        "Plotting the accuracy surface for the hyperparameters involved in the random forest model."
      ]
    },
    {
      "cell_type": "code",
      "execution_count": 8,
      "metadata": {
        "id": "SQfaYJb_H0Wu",
        "outputId": "b607e515-c896-4d24-fb3a-1de620e0f614",
        "colab": {
          "base_uri": "https://localhost:8080/",
          "height": 542
        }
      },
      "outputs": [
        {
          "output_type": "display_data",
          "data": {
            "text/html": [
              "<html>\n",
              "<head><meta charset=\"utf-8\" /></head>\n",
              "<body>\n",
              "    <div>            <script src=\"https://cdnjs.cloudflare.com/ajax/libs/mathjax/2.7.5/MathJax.js?config=TeX-AMS-MML_SVG\"></script><script type=\"text/javascript\">if (window.MathJax && window.MathJax.Hub && window.MathJax.Hub.Config) {window.MathJax.Hub.Config({SVG: {font: \"STIX-Web\"}});}</script>                <script type=\"text/javascript\">window.PlotlyConfig = {MathJaxConfig: 'local'};</script>\n",
              "        <script charset=\"utf-8\" src=\"https://cdn.plot.ly/plotly-2.24.1.min.js\"></script>                <div id=\"5cbeb9fd-6334-4387-8756-e9cd20fafab9\" class=\"plotly-graph-div\" style=\"height:525px; width:100%;\"></div>            <script type=\"text/javascript\">                                    window.PLOTLYENV=window.PLOTLYENV || {};                                    if (document.getElementById(\"5cbeb9fd-6334-4387-8756-e9cd20fafab9\")) {                    Plotly.newPlot(                        \"5cbeb9fd-6334-4387-8756-e9cd20fafab9\",                        [{\"colorbar\":{\"title\":{\"text\":\"Objective Value\"}},\"colorscale\":[[0.0,\"rgb(247,251,255)\"],[0.125,\"rgb(222,235,247)\"],[0.25,\"rgb(198,219,239)\"],[0.375,\"rgb(158,202,225)\"],[0.5,\"rgb(107,174,214)\"],[0.625,\"rgb(66,146,198)\"],[0.75,\"rgb(33,113,181)\"],[0.875,\"rgb(8,81,156)\"],[1.0,\"rgb(8,48,107)\"]],\"connectgaps\":true,\"contours\":{\"coloring\":\"heatmap\"},\"hoverinfo\":\"none\",\"line\":{\"smoothing\":1.3},\"reversescale\":false,\"x\":[0.8461845161442737,1.005857116764473,1.1933758941385677,1.6441770688355801,2.499815319711495,2.8884199765988128,3.780244374752797,4.706027767705111,4.989883064088834,5.816846354172031,7.153161390430079,7.4650529387317714,8.224538747931824,8.459818420842652,9.246492033152776,10.066293686307528,10.319163576248817,11.533938327223643,12.46750958347507,13.320760042029661,14.831783940056178,15.373999251492222,16.066773298084573,16.774717401695543,16.895318478929823,19.287343621660355,19.854287499077998,21.0663701373373,23.730451405866,25.92522538000628,26.272544860469072,30.37190523953651,31.183587989173375,31.912488452364716,37.93428384832582],\"y\":[2.15,3,7,9,10,11,13,14,15,16,17,18,19,20,20.85],\"z\":[[null,null,null,null,null,null,null,null,null,null,null,null,null,null,null,null,null,null,null,null,null,null,null,null,null,null,null,null,null,null,null,null,null,null,null],[null,0.8466666666666667,0.7466666666666667,null,null,null,null,null,null,null,0.9466666666666667,null,null,null,null,null,null,null,null,null,null,null,null,null,null,null,null,null,null,null,null,null,null,null,null],[null,null,null,0.7600000000000001,null,null,null,null,null,null,null,null,null,null,null,null,null,null,null,null,null,null,null,null,null,null,null,null,null,null,null,0.9533333333333333,null,null,null],[null,null,null,null,null,null,null,null,null,null,null,null,null,null,null,null,null,null,null,null,null,0.94,null,null,null,null,null,null,null,null,null,null,null,null,null],[null,null,null,null,null,null,null,null,null,null,null,0.9533333333333333,null,null,null,null,null,null,null,null,null,null,null,null,null,null,null,null,null,null,null,null,null,null,null],[null,null,null,null,null,null,null,null,null,null,null,null,null,null,null,null,null,0.9533333333333333,null,null,null,null,null,null,null,null,null,null,null,null,null,null,null,null,null],[null,null,null,null,null,null,0.96,null,null,null,null,null,null,null,null,null,null,null,null,null,null,null,null,0.9466666666666667,0.9533333333333333,null,null,null,null,null,null,null,null,null,null],[null,null,null,null,null,null,null,null,0.96,null,null,null,null,null,null,null,null,null,null,null,null,null,null,null,null,null,null,0.9466666666666667,null,null,null,null,null,null,null],[null,null,null,null,null,null,null,null,null,0.96,null,null,null,null,null,0.9666666666666667,null,null,null,null,null,null,null,null,null,null,null,null,null,null,null,null,null,null,null],[null,null,null,null,0.96,0.94,null,null,null,null,null,null,null,null,null,null,null,null,null,null,null,null,null,null,null,null,null,null,0.96,null,null,null,null,null,null],[null,null,null,null,null,null,null,null,null,null,null,null,null,null,null,null,null,null,null,0.96,0.96,null,null,null,null,null,null,null,null,null,null,null,null,null,null],[null,null,null,null,null,null,null,0.9533333333333333,null,null,null,null,0.9533333333333333,0.9666666666666667,null,null,null,null,null,null,null,null,0.9666666666666667,null,null,0.9533333333333333,null,null,null,null,null,null,null,0.9466666666666667,null],[null,null,null,null,null,null,null,null,null,null,null,null,null,null,0.96,null,null,null,null,null,null,null,null,null,null,null,null,null,null,null,0.9533333333333333,null,null,null,null],[null,null,null,null,null,null,null,null,null,null,null,null,null,null,null,null,0.96,null,0.96,null,null,null,null,null,null,null,0.96,null,null,0.9533333333333333,null,null,0.9666666666666667,null,null],[null,null,null,null,null,null,null,null,null,null,null,null,null,null,null,null,null,null,null,null,null,null,null,null,null,null,null,null,null,null,null,null,null,null,null]],\"type\":\"contour\"},{\"marker\":{\"color\":\"black\",\"line\":{\"color\":\"Gray\",\"width\":2.0}},\"mode\":\"markers\",\"name\":\"Feasible Trial\",\"showlegend\":false,\"x\":[1.1933758941385677,4.989883064088834,16.774717401695543,5.816846354172031,1.6441770688355801,4.706027767705111,31.183587989173375,25.92522538000628,7.4650529387317714,2.8884199765988128,12.46750958347507,11.533938327223643,2.499815319711495,30.37190523953651,3.780244374752797,8.459818420842652,8.224538747931824,16.066773298084573,19.287343621660355,19.854287499077998,13.320760042029661,9.246492033152776,23.730451405866,31.912488452364716,15.373999251492222,21.0663701373373,10.319163576248817,7.153161390430079,14.831783940056178,1.005857116764473,26.272544860469072,16.895318478929823,10.066293686307528],\"y\":[3,14,13,15,7,18,20,20,10,16,20,11,16,7,13,18,18,18,18,20,17,19,16,18,9,14,20,3,17,3,19,13,15],\"type\":\"scatter\"},{\"marker\":{\"color\":\"#cccccc\",\"line\":{\"color\":\"Gray\",\"width\":2.0}},\"mode\":\"markers\",\"name\":\"Infeasible Trial\",\"showlegend\":false,\"x\":[],\"y\":[],\"type\":\"scatter\"}],                        {\"title\":{\"text\":\"Contour Plot\"},\"template\":{\"data\":{\"histogram2dcontour\":[{\"type\":\"histogram2dcontour\",\"colorbar\":{\"outlinewidth\":0,\"ticks\":\"\"},\"colorscale\":[[0.0,\"#0d0887\"],[0.1111111111111111,\"#46039f\"],[0.2222222222222222,\"#7201a8\"],[0.3333333333333333,\"#9c179e\"],[0.4444444444444444,\"#bd3786\"],[0.5555555555555556,\"#d8576b\"],[0.6666666666666666,\"#ed7953\"],[0.7777777777777778,\"#fb9f3a\"],[0.8888888888888888,\"#fdca26\"],[1.0,\"#f0f921\"]]}],\"choropleth\":[{\"type\":\"choropleth\",\"colorbar\":{\"outlinewidth\":0,\"ticks\":\"\"}}],\"histogram2d\":[{\"type\":\"histogram2d\",\"colorbar\":{\"outlinewidth\":0,\"ticks\":\"\"},\"colorscale\":[[0.0,\"#0d0887\"],[0.1111111111111111,\"#46039f\"],[0.2222222222222222,\"#7201a8\"],[0.3333333333333333,\"#9c179e\"],[0.4444444444444444,\"#bd3786\"],[0.5555555555555556,\"#d8576b\"],[0.6666666666666666,\"#ed7953\"],[0.7777777777777778,\"#fb9f3a\"],[0.8888888888888888,\"#fdca26\"],[1.0,\"#f0f921\"]]}],\"heatmap\":[{\"type\":\"heatmap\",\"colorbar\":{\"outlinewidth\":0,\"ticks\":\"\"},\"colorscale\":[[0.0,\"#0d0887\"],[0.1111111111111111,\"#46039f\"],[0.2222222222222222,\"#7201a8\"],[0.3333333333333333,\"#9c179e\"],[0.4444444444444444,\"#bd3786\"],[0.5555555555555556,\"#d8576b\"],[0.6666666666666666,\"#ed7953\"],[0.7777777777777778,\"#fb9f3a\"],[0.8888888888888888,\"#fdca26\"],[1.0,\"#f0f921\"]]}],\"heatmapgl\":[{\"type\":\"heatmapgl\",\"colorbar\":{\"outlinewidth\":0,\"ticks\":\"\"},\"colorscale\":[[0.0,\"#0d0887\"],[0.1111111111111111,\"#46039f\"],[0.2222222222222222,\"#7201a8\"],[0.3333333333333333,\"#9c179e\"],[0.4444444444444444,\"#bd3786\"],[0.5555555555555556,\"#d8576b\"],[0.6666666666666666,\"#ed7953\"],[0.7777777777777778,\"#fb9f3a\"],[0.8888888888888888,\"#fdca26\"],[1.0,\"#f0f921\"]]}],\"contourcarpet\":[{\"type\":\"contourcarpet\",\"colorbar\":{\"outlinewidth\":0,\"ticks\":\"\"}}],\"contour\":[{\"type\":\"contour\",\"colorbar\":{\"outlinewidth\":0,\"ticks\":\"\"},\"colorscale\":[[0.0,\"#0d0887\"],[0.1111111111111111,\"#46039f\"],[0.2222222222222222,\"#7201a8\"],[0.3333333333333333,\"#9c179e\"],[0.4444444444444444,\"#bd3786\"],[0.5555555555555556,\"#d8576b\"],[0.6666666666666666,\"#ed7953\"],[0.7777777777777778,\"#fb9f3a\"],[0.8888888888888888,\"#fdca26\"],[1.0,\"#f0f921\"]]}],\"surface\":[{\"type\":\"surface\",\"colorbar\":{\"outlinewidth\":0,\"ticks\":\"\"},\"colorscale\":[[0.0,\"#0d0887\"],[0.1111111111111111,\"#46039f\"],[0.2222222222222222,\"#7201a8\"],[0.3333333333333333,\"#9c179e\"],[0.4444444444444444,\"#bd3786\"],[0.5555555555555556,\"#d8576b\"],[0.6666666666666666,\"#ed7953\"],[0.7777777777777778,\"#fb9f3a\"],[0.8888888888888888,\"#fdca26\"],[1.0,\"#f0f921\"]]}],\"mesh3d\":[{\"type\":\"mesh3d\",\"colorbar\":{\"outlinewidth\":0,\"ticks\":\"\"}}],\"scatter\":[{\"fillpattern\":{\"fillmode\":\"overlay\",\"size\":10,\"solidity\":0.2},\"type\":\"scatter\"}],\"parcoords\":[{\"type\":\"parcoords\",\"line\":{\"colorbar\":{\"outlinewidth\":0,\"ticks\":\"\"}}}],\"scatterpolargl\":[{\"type\":\"scatterpolargl\",\"marker\":{\"colorbar\":{\"outlinewidth\":0,\"ticks\":\"\"}}}],\"bar\":[{\"error_x\":{\"color\":\"#2a3f5f\"},\"error_y\":{\"color\":\"#2a3f5f\"},\"marker\":{\"line\":{\"color\":\"#E5ECF6\",\"width\":0.5},\"pattern\":{\"fillmode\":\"overlay\",\"size\":10,\"solidity\":0.2}},\"type\":\"bar\"}],\"scattergeo\":[{\"type\":\"scattergeo\",\"marker\":{\"colorbar\":{\"outlinewidth\":0,\"ticks\":\"\"}}}],\"scatterpolar\":[{\"type\":\"scatterpolar\",\"marker\":{\"colorbar\":{\"outlinewidth\":0,\"ticks\":\"\"}}}],\"histogram\":[{\"marker\":{\"pattern\":{\"fillmode\":\"overlay\",\"size\":10,\"solidity\":0.2}},\"type\":\"histogram\"}],\"scattergl\":[{\"type\":\"scattergl\",\"marker\":{\"colorbar\":{\"outlinewidth\":0,\"ticks\":\"\"}}}],\"scatter3d\":[{\"type\":\"scatter3d\",\"line\":{\"colorbar\":{\"outlinewidth\":0,\"ticks\":\"\"}},\"marker\":{\"colorbar\":{\"outlinewidth\":0,\"ticks\":\"\"}}}],\"scattermapbox\":[{\"type\":\"scattermapbox\",\"marker\":{\"colorbar\":{\"outlinewidth\":0,\"ticks\":\"\"}}}],\"scatterternary\":[{\"type\":\"scatterternary\",\"marker\":{\"colorbar\":{\"outlinewidth\":0,\"ticks\":\"\"}}}],\"scattercarpet\":[{\"type\":\"scattercarpet\",\"marker\":{\"colorbar\":{\"outlinewidth\":0,\"ticks\":\"\"}}}],\"carpet\":[{\"aaxis\":{\"endlinecolor\":\"#2a3f5f\",\"gridcolor\":\"white\",\"linecolor\":\"white\",\"minorgridcolor\":\"white\",\"startlinecolor\":\"#2a3f5f\"},\"baxis\":{\"endlinecolor\":\"#2a3f5f\",\"gridcolor\":\"white\",\"linecolor\":\"white\",\"minorgridcolor\":\"white\",\"startlinecolor\":\"#2a3f5f\"},\"type\":\"carpet\"}],\"table\":[{\"cells\":{\"fill\":{\"color\":\"#EBF0F8\"},\"line\":{\"color\":\"white\"}},\"header\":{\"fill\":{\"color\":\"#C8D4E3\"},\"line\":{\"color\":\"white\"}},\"type\":\"table\"}],\"barpolar\":[{\"marker\":{\"line\":{\"color\":\"#E5ECF6\",\"width\":0.5},\"pattern\":{\"fillmode\":\"overlay\",\"size\":10,\"solidity\":0.2}},\"type\":\"barpolar\"}],\"pie\":[{\"automargin\":true,\"type\":\"pie\"}]},\"layout\":{\"autotypenumbers\":\"strict\",\"colorway\":[\"#636efa\",\"#EF553B\",\"#00cc96\",\"#ab63fa\",\"#FFA15A\",\"#19d3f3\",\"#FF6692\",\"#B6E880\",\"#FF97FF\",\"#FECB52\"],\"font\":{\"color\":\"#2a3f5f\"},\"hovermode\":\"closest\",\"hoverlabel\":{\"align\":\"left\"},\"paper_bgcolor\":\"white\",\"plot_bgcolor\":\"#E5ECF6\",\"polar\":{\"bgcolor\":\"#E5ECF6\",\"angularaxis\":{\"gridcolor\":\"white\",\"linecolor\":\"white\",\"ticks\":\"\"},\"radialaxis\":{\"gridcolor\":\"white\",\"linecolor\":\"white\",\"ticks\":\"\"}},\"ternary\":{\"bgcolor\":\"#E5ECF6\",\"aaxis\":{\"gridcolor\":\"white\",\"linecolor\":\"white\",\"ticks\":\"\"},\"baxis\":{\"gridcolor\":\"white\",\"linecolor\":\"white\",\"ticks\":\"\"},\"caxis\":{\"gridcolor\":\"white\",\"linecolor\":\"white\",\"ticks\":\"\"}},\"coloraxis\":{\"colorbar\":{\"outlinewidth\":0,\"ticks\":\"\"}},\"colorscale\":{\"sequential\":[[0.0,\"#0d0887\"],[0.1111111111111111,\"#46039f\"],[0.2222222222222222,\"#7201a8\"],[0.3333333333333333,\"#9c179e\"],[0.4444444444444444,\"#bd3786\"],[0.5555555555555556,\"#d8576b\"],[0.6666666666666666,\"#ed7953\"],[0.7777777777777778,\"#fb9f3a\"],[0.8888888888888888,\"#fdca26\"],[1.0,\"#f0f921\"]],\"sequentialminus\":[[0.0,\"#0d0887\"],[0.1111111111111111,\"#46039f\"],[0.2222222222222222,\"#7201a8\"],[0.3333333333333333,\"#9c179e\"],[0.4444444444444444,\"#bd3786\"],[0.5555555555555556,\"#d8576b\"],[0.6666666666666666,\"#ed7953\"],[0.7777777777777778,\"#fb9f3a\"],[0.8888888888888888,\"#fdca26\"],[1.0,\"#f0f921\"]],\"diverging\":[[0,\"#8e0152\"],[0.1,\"#c51b7d\"],[0.2,\"#de77ae\"],[0.3,\"#f1b6da\"],[0.4,\"#fde0ef\"],[0.5,\"#f7f7f7\"],[0.6,\"#e6f5d0\"],[0.7,\"#b8e186\"],[0.8,\"#7fbc41\"],[0.9,\"#4d9221\"],[1,\"#276419\"]]},\"xaxis\":{\"gridcolor\":\"white\",\"linecolor\":\"white\",\"ticks\":\"\",\"title\":{\"standoff\":15},\"zerolinecolor\":\"white\",\"automargin\":true,\"zerolinewidth\":2},\"yaxis\":{\"gridcolor\":\"white\",\"linecolor\":\"white\",\"ticks\":\"\",\"title\":{\"standoff\":15},\"zerolinecolor\":\"white\",\"automargin\":true,\"zerolinewidth\":2},\"scene\":{\"xaxis\":{\"backgroundcolor\":\"#E5ECF6\",\"gridcolor\":\"white\",\"linecolor\":\"white\",\"showbackground\":true,\"ticks\":\"\",\"zerolinecolor\":\"white\",\"gridwidth\":2},\"yaxis\":{\"backgroundcolor\":\"#E5ECF6\",\"gridcolor\":\"white\",\"linecolor\":\"white\",\"showbackground\":true,\"ticks\":\"\",\"zerolinecolor\":\"white\",\"gridwidth\":2},\"zaxis\":{\"backgroundcolor\":\"#E5ECF6\",\"gridcolor\":\"white\",\"linecolor\":\"white\",\"showbackground\":true,\"ticks\":\"\",\"zerolinecolor\":\"white\",\"gridwidth\":2}},\"shapedefaults\":{\"line\":{\"color\":\"#2a3f5f\"}},\"annotationdefaults\":{\"arrowcolor\":\"#2a3f5f\",\"arrowhead\":0,\"arrowwidth\":1},\"geo\":{\"bgcolor\":\"white\",\"landcolor\":\"#E5ECF6\",\"subunitcolor\":\"white\",\"showland\":true,\"showlakes\":true,\"lakecolor\":\"white\"},\"title\":{\"x\":0.05},\"mapbox\":{\"style\":\"light\"}}},\"xaxis\":{\"title\":{\"text\":\"max_depth\"},\"range\":[-0.07253492584308925,1.5790318895426687],\"type\":\"log\"},\"yaxis\":{\"title\":{\"text\":\"n_estimators\"},\"range\":[2.15,20.85]}},                        {\"responsive\": true}                    ).then(function(){\n",
              "                            \n",
              "var gd = document.getElementById('5cbeb9fd-6334-4387-8756-e9cd20fafab9');\n",
              "var x = new MutationObserver(function (mutations, observer) {{\n",
              "        var display = window.getComputedStyle(gd).display;\n",
              "        if (!display || display === 'none') {{\n",
              "            console.log([gd, 'removed!']);\n",
              "            Plotly.purge(gd);\n",
              "            observer.disconnect();\n",
              "        }}\n",
              "}});\n",
              "\n",
              "// Listen for the removal of the full notebook cells\n",
              "var notebookContainer = gd.closest('#notebook-container');\n",
              "if (notebookContainer) {{\n",
              "    x.observe(notebookContainer, {childList: true});\n",
              "}}\n",
              "\n",
              "// Listen for the clearing of the current output cell\n",
              "var outputEl = gd.closest('.output');\n",
              "if (outputEl) {{\n",
              "    x.observe(outputEl, {childList: true});\n",
              "}}\n",
              "\n",
              "                        })                };                            </script>        </div>\n",
              "</body>\n",
              "</html>"
            ]
          },
          "metadata": {}
        }
      ],
      "source": [
        "optuna.visualization.plot_contour(study, params=['n_estimators', 'max_depth'])"
      ]
    }
  ],
  "metadata": {
    "kernelspec": {
      "display_name": "Python 3",
      "language": "python",
      "name": "python3"
    },
    "language_info": {
      "codemirror_mode": {
        "name": "ipython",
        "version": 3
      },
      "file_extension": ".py",
      "mimetype": "text/x-python",
      "name": "python",
      "nbconvert_exporter": "python",
      "pygments_lexer": "ipython3",
      "version": "3.7.4"
    },
    "colab": {
      "provenance": []
    }
  },
  "nbformat": 4,
  "nbformat_minor": 0
}